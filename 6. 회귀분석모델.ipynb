{
 "cells": [
  {
   "cell_type": "markdown",
   "id": "536e48e3",
   "metadata": {},
   "source": [
    "## 회귀분석"
   ]
  },
  {
   "cell_type": "code",
   "execution_count": 51,
   "id": "0d302235",
   "metadata": {
    "ExecuteTime": {
     "end_time": "2021-08-31T09:58:41.412163Z",
     "start_time": "2021-08-31T09:58:27.837501Z"
    }
   },
   "outputs": [
    {
     "name": "stdout",
     "output_type": "stream",
     "text": [
      "Requirement already satisfied: scipy in c:\\users\\g4560\\anaconda3\\lib\\site-packages (1.7.1)\n",
      "Requirement already satisfied: numpy<1.23.0,>=1.16.5 in c:\\users\\g4560\\anaconda3\\lib\\site-packages (from scipy) (1.22.3)\n",
      "Requirement already satisfied: scikit-learn in c:\\users\\g4560\\anaconda3\\lib\\site-packages (1.0.2)\n",
      "Requirement already satisfied: numpy>=1.14.6 in c:\\users\\g4560\\anaconda3\\lib\\site-packages (from scikit-learn) (1.22.3)\n",
      "Requirement already satisfied: scipy>=1.1.0 in c:\\users\\g4560\\anaconda3\\lib\\site-packages (from scikit-learn) (1.7.1)\n",
      "Requirement already satisfied: threadpoolctl>=2.0.0 in c:\\users\\g4560\\anaconda3\\lib\\site-packages (from scikit-learn) (2.2.0)\n",
      "Requirement already satisfied: joblib>=0.11 in c:\\users\\g4560\\anaconda3\\lib\\site-packages (from scikit-learn) (1.1.0)\n",
      "Requirement already satisfied: statsmodels in c:\\users\\g4560\\anaconda3\\lib\\site-packages (0.12.2)\n",
      "Requirement already satisfied: numpy>=1.15 in c:\\users\\g4560\\anaconda3\\lib\\site-packages (from statsmodels) (1.22.3)\n",
      "Requirement already satisfied: scipy>=1.1 in c:\\users\\g4560\\anaconda3\\lib\\site-packages (from statsmodels) (1.7.1)\n",
      "Requirement already satisfied: pandas>=0.21 in c:\\users\\g4560\\anaconda3\\lib\\site-packages (from statsmodels) (1.4.2)\n",
      "Requirement already satisfied: patsy>=0.5 in c:\\users\\g4560\\anaconda3\\lib\\site-packages (from statsmodels) (0.5.2)\n",
      "Requirement already satisfied: python-dateutil>=2.8.1 in c:\\users\\g4560\\anaconda3\\lib\\site-packages (from pandas>=0.21->statsmodels) (2.8.2)\n",
      "Requirement already satisfied: pytz>=2020.1 in c:\\users\\g4560\\anaconda3\\lib\\site-packages (from pandas>=0.21->statsmodels) (2021.3)\n",
      "Requirement already satisfied: six in c:\\users\\g4560\\anaconda3\\lib\\site-packages (from patsy>=0.5->statsmodels) (1.15.0)\n"
     ]
    }
   ],
   "source": [
    "!pip install scipy\n",
    "!pip install scikit-learn\n",
    "!pip install statsmodels"
   ]
  },
  {
   "cell_type": "markdown",
   "id": "d0403fda",
   "metadata": {},
   "source": [
    "### scipy"
   ]
  },
  {
   "cell_type": "code",
   "execution_count": 52,
   "id": "47627016",
   "metadata": {
    "ExecuteTime": {
     "end_time": "2021-08-31T09:58:41.427123Z",
     "start_time": "2021-08-31T09:58:41.414158Z"
    }
   },
   "outputs": [],
   "source": [
    "from scipy import stats"
   ]
  },
  {
   "cell_type": "code",
   "execution_count": 53,
   "id": "3c5ab34e",
   "metadata": {
    "ExecuteTime": {
     "end_time": "2021-08-31T09:58:41.442191Z",
     "start_time": "2021-08-31T09:58:41.429117Z"
    }
   },
   "outputs": [
    {
     "name": "stdout",
     "output_type": "stream",
     "text": [
      "59.45021894151893 -34121.351849900806\n"
     ]
    }
   ],
   "source": [
    "data = data.reset_index()[['Close']]\n",
    "\n",
    "#회귀선 기울기, 상수항\n",
    "slope, intercept, _, _, _, = sp.stats.linregress(data.index, data.Close)\n",
    "print(slope, intercept)"
   ]
  },
  {
   "cell_type": "code",
   "execution_count": 54,
   "id": "c8e52c87",
   "metadata": {
    "ExecuteTime": {
     "end_time": "2021-08-31T09:58:41.772282Z",
     "start_time": "2021-08-31T09:58:41.444733Z"
    }
   },
   "outputs": [
    {
     "data": {
      "image/png": "[encoded data removed]",
      "text/plain": [
       "<Figure size 432x288 with 1 Axes>"
      ]
     },
     "metadata": {
      "needs_background": "light"
     },
     "output_type": "display_data"
    }
   ],
   "source": [
    "plt.plot(data.index, data.Close)\n",
    "plt.plot(data.index, data.index * slope + intercept)\n",
    "plt.show()"
   ]
  },
  {
   "cell_type": "markdown",
   "id": "7519f6ec",
   "metadata": {},
   "source": [
    "### scikit-learn"
   ]
  },
  {
   "cell_type": "code",
   "execution_count": 55,
   "id": "e5b1c9fc",
   "metadata": {
    "ExecuteTime": {
     "end_time": "2021-08-31T09:58:41.996646Z",
     "start_time": "2021-08-31T09:58:41.775195Z"
    }
   },
   "outputs": [],
   "source": [
    "from sklearn.linear_model import LinearRegression\n",
    "import statsmodels.api as sm"
   ]
  },
  {
   "cell_type": "code",
   "execution_count": 56,
   "id": "96d88d2d",
   "metadata": {
    "ExecuteTime": {
     "end_time": "2021-08-31T09:58:42.026465Z",
     "start_time": "2021-08-31T09:58:42.001419Z"
    }
   },
   "outputs": [
    {
     "data": {
      "text/plain": [
       "array([[1.000e+00, 0.000e+00],\n",
       "       [1.000e+00, 1.000e+00],\n",
       "       [1.000e+00, 2.000e+00],\n",
       "       ...,\n",
       "       [1.000e+00, 4.805e+03],\n",
       "       [1.000e+00, 4.806e+03],\n",
       "       [1.000e+00, 4.807e+03]])"
      ]
     },
     "execution_count": 56,
     "metadata": {},
     "output_type": "execute_result"
    }
   ],
   "source": [
    "#상수항 넣어주기\n",
    "index= sm.add_constant(data.index)\n",
    "index"
   ]
  },
  {
   "cell_type": "code",
   "execution_count": 57,
   "id": "1797134b",
   "metadata": {
    "ExecuteTime": {
     "end_time": "2021-08-31T09:58:42.087048Z",
     "start_time": "2021-08-31T09:58:42.031510Z"
    }
   },
   "outputs": [
    {
     "data": {
      "text/plain": [
       "LinearRegression()"
      ]
     },
     "execution_count": 57,
     "metadata": {},
     "output_type": "execute_result"
    }
   ],
   "source": [
    "model = LinearRegression(fit_intercept=True)\n",
    "model.fit(index, data.Close)"
   ]
  },
  {
   "cell_type": "code",
   "execution_count": 58,
   "id": "63849557",
   "metadata": {
    "ExecuteTime": {
     "end_time": "2021-08-31T09:58:42.101984Z",
     "start_time": "2021-08-31T09:58:42.090922Z"
    }
   },
   "outputs": [
    {
     "data": {
      "text/plain": [
       "(array([ 0.        , 59.45021894]), -34121.35184990089)"
      ]
     },
     "execution_count": 58,
     "metadata": {},
     "output_type": "execute_result"
    }
   ],
   "source": [
    "#회귀선 기울기, 상수항\n",
    "model.coef_, model.intercept_"
   ]
  },
  {
   "cell_type": "code",
   "execution_count": 59,
   "id": "f9c2c61e",
   "metadata": {
    "ExecuteTime": {
     "end_time": "2021-08-31T09:58:42.477813Z",
     "start_time": "2021-08-31T09:58:42.105881Z"
    }
   },
   "outputs": [
    {
     "data": {
      "image/png": "[encoded data removed]",
      "text/plain": [
       "<Figure size 432x288 with 1 Axes>"
      ]
     },
     "metadata": {
      "needs_background": "light"
     },
     "output_type": "display_data"
    }
   ],
   "source": [
    "plt.plot(data.index, data.Close)\n",
    "plt.plot(index, index * model.coef_ + model.intercept_)\n",
    "plt.show()"
   ]
  },
  {
   "cell_type": "markdown",
   "id": "1ea0c833",
   "metadata": {},
   "source": [
    "### statsmodels"
   ]
  },
  {
   "cell_type": "code",
   "execution_count": 60,
   "id": "7030f9df",
   "metadata": {
    "ExecuteTime": {
     "end_time": "2021-08-31T09:58:42.537444Z",
     "start_time": "2021-08-31T09:58:42.491602Z"
    }
   },
   "outputs": [
    {
     "data": {
      "text/html": [
       "<table class=\"simpletable\">\n",
       "<caption>OLS Regression Results</caption>\n",
       "<tr>\n",
       "  <th>Dep. Variable:</th>          <td>Close</td>      <th>  R-squared:         </th> <td>   0.746</td> \n",
       "</tr>\n",
       "<tr>\n",
       "  <th>Model:</th>                   <td>OLS</td>       <th>  Adj. R-squared:    </th> <td>   0.746</td> \n",
       "</tr>\n",
       "<tr>\n",
       "  <th>Method:</th>             <td>Least Squares</td>  <th>  F-statistic:       </th> <td>1.412e+04</td>\n",
       "</tr>\n",
       "<tr>\n",
       "  <th>Date:</th>             <td>Thu, 07 Apr 2022</td> <th>  Prob (F-statistic):</th>  <td>  0.00</td>  \n",
       "</tr>\n",
       "<tr>\n",
       "  <th>Time:</th>                 <td>22:23:29</td>     <th>  Log-Likelihood:    </th> <td> -58661.</td> \n",
       "</tr>\n",
       "<tr>\n",
       "  <th>No. Observations:</th>      <td>  4808</td>      <th>  AIC:               </th> <td>1.173e+05</td>\n",
       "</tr>\n",
       "<tr>\n",
       "  <th>Df Residuals:</th>          <td>  4806</td>      <th>  BIC:               </th> <td>1.173e+05</td>\n",
       "</tr>\n",
       "<tr>\n",
       "  <th>Df Model:</th>              <td>     1</td>      <th>                     </th>     <td> </td>    \n",
       "</tr>\n",
       "<tr>\n",
       "  <th>Covariance Type:</th>      <td>nonrobust</td>    <th>                     </th>     <td> </td>    \n",
       "</tr>\n",
       "</table>\n",
       "<table class=\"simpletable\">\n",
       "<tr>\n",
       "    <td></td>       <th>coef</th>     <th>std err</th>      <th>t</th>      <th>P>|t|</th>  <th>[0.025</th>    <th>0.975]</th>  \n",
       "</tr>\n",
       "<tr>\n",
       "  <th>const</th> <td>-3.412e+04</td> <td> 1388.528</td> <td>  -24.574</td> <td> 0.000</td> <td>-3.68e+04</td> <td>-3.14e+04</td>\n",
       "</tr>\n",
       "<tr>\n",
       "  <th>x1</th>    <td>   59.4502</td> <td>    0.500</td> <td>  118.832</td> <td> 0.000</td> <td>   58.469</td> <td>   60.431</td>\n",
       "</tr>\n",
       "</table>\n",
       "<table class=\"simpletable\">\n",
       "<tr>\n",
       "  <th>Omnibus:</th>       <td>1443.047</td> <th>  Durbin-Watson:     </th> <td>   0.004</td>\n",
       "</tr>\n",
       "<tr>\n",
       "  <th>Prob(Omnibus):</th>  <td> 0.000</td>  <th>  Jarque-Bera (JB):  </th> <td>4740.486</td>\n",
       "</tr>\n",
       "<tr>\n",
       "  <th>Skew:</th>           <td> 1.512</td>  <th>  Prob(JB):          </th> <td>    0.00</td>\n",
       "</tr>\n",
       "<tr>\n",
       "  <th>Kurtosis:</th>       <td> 6.810</td>  <th>  Cond. No.          </th> <td>5.55e+03</td>\n",
       "</tr>\n",
       "</table><br/><br/>Notes:<br/>[1] Standard Errors assume that the covariance matrix of the errors is correctly specified.<br/>[2] The condition number is large, 5.55e+03. This might indicate that there are<br/>strong multicollinearity or other numerical problems."
      ],
      "text/plain": [
       "<class 'statsmodels.iolib.summary.Summary'>\n",
       "\"\"\"\n",
       "                            OLS Regression Results                            \n",
       "==============================================================================\n",
       "Dep. Variable:                  Close   R-squared:                       0.746\n",
       "Model:                            OLS   Adj. R-squared:                  0.746\n",
       "Method:                 Least Squares   F-statistic:                 1.412e+04\n",
       "Date:                Thu, 07 Apr 2022   Prob (F-statistic):               0.00\n",
       "Time:                        22:23:29   Log-Likelihood:                -58661.\n",
       "No. Observations:                4808   AIC:                         1.173e+05\n",
       "Df Residuals:                    4806   BIC:                         1.173e+05\n",
       "Df Model:                           1                                         \n",
       "Covariance Type:            nonrobust                                         \n",
       "==============================================================================\n",
       "                 coef    std err          t      P>|t|      [0.025      0.975]\n",
       "------------------------------------------------------------------------------\n",
       "const      -3.412e+04   1388.528    -24.574      0.000   -3.68e+04   -3.14e+04\n",
       "x1            59.4502      0.500    118.832      0.000      58.469      60.431\n",
       "==============================================================================\n",
       "Omnibus:                     1443.047   Durbin-Watson:                   0.004\n",
       "Prob(Omnibus):                  0.000   Jarque-Bera (JB):             4740.486\n",
       "Skew:                           1.512   Prob(JB):                         0.00\n",
       "Kurtosis:                       6.810   Cond. No.                     5.55e+03\n",
       "==============================================================================\n",
       "\n",
       "Notes:\n",
       "[1] Standard Errors assume that the covariance matrix of the errors is correctly specified.\n",
       "[2] The condition number is large, 5.55e+03. This might indicate that there are\n",
       "strong multicollinearity or other numerical problems.\n",
       "\"\"\""
      ]
     },
     "execution_count": 60,
     "metadata": {},
     "output_type": "execute_result"
    }
   ],
   "source": [
    "index = sm.add_constant(data.index)\n",
    "model = sm.OLS(data.Close, index)\n",
    "result = model.fit()\n",
    "result.summary()"
   ]
  },
  {
   "cell_type": "code",
   "execution_count": 61,
   "id": "876c5605",
   "metadata": {
    "ExecuteTime": {
     "end_time": "2021-08-31T09:58:42.552403Z",
     "start_time": "2021-08-31T09:58:42.543428Z"
    }
   },
   "outputs": [
    {
     "data": {
      "text/plain": [
       "const   -34121.351850\n",
       "x1          59.450219\n",
       "dtype: float64"
      ]
     },
     "execution_count": 61,
     "metadata": {},
     "output_type": "execute_result"
    }
   ],
   "source": [
    "result.params"
   ]
  },
  {
   "cell_type": "code",
   "execution_count": 62,
   "id": "98c629c0",
   "metadata": {
    "ExecuteTime": {
     "end_time": "2021-08-31T09:58:42.567362Z",
     "start_time": "2021-08-31T09:58:42.555397Z"
    }
   },
   "outputs": [
    {
     "data": {
      "text/plain": [
       "0.7460788809212038"
      ]
     },
     "execution_count": 62,
     "metadata": {},
     "output_type": "execute_result"
    }
   ],
   "source": [
    "result.rsquared"
   ]
  },
  {
   "cell_type": "code",
   "execution_count": 63,
   "id": "47938314",
   "metadata": {
    "ExecuteTime": {
     "end_time": "2021-08-31T09:58:42.837714Z",
     "start_time": "2021-08-31T09:58:42.569358Z"
    }
   },
   "outputs": [
    {
     "data": {
      "image/png": "[encoded data removed]",
      "text/plain": [
       "<Figure size 432x288 with 1 Axes>"
      ]
     },
     "metadata": {
      "needs_background": "light"
     },
     "output_type": "display_data"
    }
   ],
   "source": [
    "plt.plot(data.index, data.Close)\n",
    "result.fittedvalues.plot()\n",
    "plt.show()"
   ]
  }
 ],
 "metadata": {
  "hide_input": false,
  "kernelspec": {
   "display_name": "Python 3 (ipykernel)",
   "language": "python",
   "name": "python3"
  },
  "language_info": {
   "codemirror_mode": {
    "name": "ipython",
    "version": 3
   },
   "file_extension": ".py",
   "mimetype": "text/x-python",
   "name": "python",
   "nbconvert_exporter": "python",
   "pygments_lexer": "ipython3",
   "version": "3.9.7"
  },
  "toc": {
   "base_numbering": 1,
   "nav_menu": {},
   "number_sections": true,
   "sideBar": true,
   "skip_h1_title": false,
   "title_cell": "Table of Contents",
   "title_sidebar": "Contents",
   "toc_cell": false,
   "toc_position": {},
   "toc_section_display": true,
   "toc_window_display": false
  },
  "varInspector": {
   "cols": {
    "lenName": 16,
    "lenType": 16,
    "lenVar": 40
   },
   "kernels_config": {
    "python": {
     "delete_cmd_postfix": "",
     "delete_cmd_prefix": "del ",
     "library": "var_list.py",
     "varRefreshCmd": "print(var_dic_list())"
    },
    "r": {
     "delete_cmd_postfix": ") ",
     "delete_cmd_prefix": "rm(",
     "library": "var_list.r",
     "varRefreshCmd": "cat(var_dic_list()) "
    }
   },
   "types_to_exclude": [
    "module",
    "function",
    "builtin_function_or_method",
    "instance",
    "_Feature"
   ],
   "window_display": false
  }
 },
 "nbformat": 4,
 "nbformat_minor": 5
}
