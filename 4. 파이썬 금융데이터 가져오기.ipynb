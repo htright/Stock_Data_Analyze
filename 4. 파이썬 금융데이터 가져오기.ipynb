{
 "cells": [
  {
   "cell_type": "markdown",
   "id": "ec2e80ff",
   "metadata": {},
   "source": [
    "## FinanceDataReader"
   ]
  },
  {
   "cell_type": "markdown",
   "id": "0f36803c",
   "metadata": {},
   "source": [
    "- https://github.com/FinanceData/FinanceDataReader/wiki/Users-Guide"
   ]
  },
  {
   "cell_type": "code",
   "execution_count": 32,
   "id": "425b1619",
   "metadata": {
    "ExecuteTime": {
     "end_time": "2021-08-31T09:56:06.890140Z",
     "start_time": "2021-08-31T09:56:02.935910Z"
    }
   },
   "outputs": [
    {
     "name": "stdout",
     "output_type": "stream",
     "text": [
      "Requirement already satisfied: finance-datareader in c:\\users\\g4560\\anaconda3\\lib\\site-packages (0.9.33)\n",
      "Requirement already satisfied: tqdm in c:\\users\\g4560\\anaconda3\\lib\\site-packages (from finance-datareader) (4.62.3)\n",
      "Requirement already satisfied: requests-file in c:\\users\\g4560\\anaconda3\\lib\\site-packages (from finance-datareader) (1.5.1)\n",
      "Requirement already satisfied: requests>=2.3.0 in c:\\users\\g4560\\anaconda3\\lib\\site-packages (from finance-datareader) (2.26.0)\n",
      "Requirement already satisfied: pandas>=0.19.2 in c:\\users\\g4560\\anaconda3\\lib\\site-packages (from finance-datareader) (1.4.1)\n",
      "Requirement already satisfied: lxml in c:\\users\\g4560\\anaconda3\\lib\\site-packages (from finance-datareader) (4.6.3)\n",
      "Requirement already satisfied: python-dateutil>=2.8.1 in c:\\users\\g4560\\anaconda3\\lib\\site-packages (from pandas>=0.19.2->finance-datareader) (2.8.2)\n",
      "Requirement already satisfied: pytz>=2020.1 in c:\\users\\g4560\\anaconda3\\lib\\site-packages (from pandas>=0.19.2->finance-datareader) (2021.3)\n",
      "Requirement already satisfied: numpy>=1.18.5 in c:\\users\\g4560\\anaconda3\\lib\\site-packages (from pandas>=0.19.2->finance-datareader) (1.22.3)\n",
      "Requirement already satisfied: six>=1.5 in c:\\users\\g4560\\anaconda3\\lib\\site-packages (from python-dateutil>=2.8.1->pandas>=0.19.2->finance-datareader) (1.15.0)\n",
      "Requirement already satisfied: certifi>=2017.4.17 in c:\\users\\g4560\\anaconda3\\lib\\site-packages (from requests>=2.3.0->finance-datareader) (2021.10.8)\n",
      "Requirement already satisfied: idna<4,>=2.5 in c:\\users\\g4560\\anaconda3\\lib\\site-packages (from requests>=2.3.0->finance-datareader) (3.2)\n",
      "Requirement already satisfied: charset-normalizer~=2.0.0 in c:\\users\\g4560\\anaconda3\\lib\\site-packages (from requests>=2.3.0->finance-datareader) (2.0.4)\n",
      "Requirement already satisfied: urllib3<1.27,>=1.21.1 in c:\\users\\g4560\\anaconda3\\lib\\site-packages (from requests>=2.3.0->finance-datareader) (1.26.7)\n",
      "Requirement already satisfied: colorama in c:\\users\\g4560\\anaconda3\\lib\\site-packages (from tqdm->finance-datareader) (0.4.4)\n"
     ]
    }
   ],
   "source": [
    "!pip install finance-datareader\n",
    "import FinanceDataReader as fdr"
   ]
  },
  {
   "cell_type": "code",
   "execution_count": 33,
   "id": "40e8012f",
   "metadata": {},
   "outputs": [],
   "source": [
    "import json"
   ]
  },
  {
   "cell_type": "markdown",
   "id": "23c61fe9",
   "metadata": {},
   "source": [
    "- StockListing에 들어갈 수 있는 다양한 Market\n",
    "    - KRX ( KOSPI, KOSDAQ, KONDEX)\n",
    "    - NASDAQ, NYSE, S&P500"
   ]
  },
  {
   "cell_type": "code",
   "execution_count": 34,
   "id": "62213764",
   "metadata": {
    "ExecuteTime": {
     "end_time": "2021-08-31T09:56:13.858271Z",
     "start_time": "2021-08-31T09:56:06.892135Z"
    }
   },
   "outputs": [
    {
     "data": {
      "text/html": [
       "<div>\n",
       "<style scoped>\n",
       "    .dataframe tbody tr th:only-of-type {\n",
       "        vertical-align: middle;\n",
       "    }\n",
       "\n",
       "    .dataframe tbody tr th {\n",
       "        vertical-align: top;\n",
       "    }\n",
       "\n",
       "    .dataframe thead th {\n",
       "        text-align: right;\n",
       "    }\n",
       "</style>\n",
       "<table border=\"1\" class=\"dataframe\">\n",
       "  <thead>\n",
       "    <tr style=\"text-align: right;\">\n",
       "      <th></th>\n",
       "      <th>Symbol</th>\n",
       "      <th>Market</th>\n",
       "      <th>Name</th>\n",
       "      <th>Sector</th>\n",
       "      <th>Industry</th>\n",
       "      <th>ListingDate</th>\n",
       "      <th>SettleMonth</th>\n",
       "      <th>Representative</th>\n",
       "      <th>HomePage</th>\n",
       "      <th>Region</th>\n",
       "    </tr>\n",
       "  </thead>\n",
       "  <tbody>\n",
       "    <tr>\n",
       "      <th>0</th>\n",
       "      <td>060310</td>\n",
       "      <td>KOSDAQ</td>\n",
       "      <td>3S</td>\n",
       "      <td>전자부품 제조업</td>\n",
       "      <td>반도체 웨이퍼 캐리어</td>\n",
       "      <td>2002-04-23</td>\n",
       "      <td>03월</td>\n",
       "      <td>김세완</td>\n",
       "      <td>http://www.3sref.com</td>\n",
       "      <td>서울특별시</td>\n",
       "    </tr>\n",
       "    <tr>\n",
       "      <th>1</th>\n",
       "      <td>095570</td>\n",
       "      <td>KOSPI</td>\n",
       "      <td>AJ네트웍스</td>\n",
       "      <td>산업용 기계 및 장비 임대업</td>\n",
       "      <td>렌탈(파렛트, OA장비, 건설장비)</td>\n",
       "      <td>2015-08-21</td>\n",
       "      <td>12월</td>\n",
       "      <td>박대현, 손삼달</td>\n",
       "      <td>http://www.ajnet.co.kr</td>\n",
       "      <td>서울특별시</td>\n",
       "    </tr>\n",
       "    <tr>\n",
       "      <th>2</th>\n",
       "      <td>006840</td>\n",
       "      <td>KOSPI</td>\n",
       "      <td>AK홀딩스</td>\n",
       "      <td>기타 금융업</td>\n",
       "      <td>지주사업</td>\n",
       "      <td>1999-08-11</td>\n",
       "      <td>12월</td>\n",
       "      <td>채형석, 이석주(각자 대표이사)</td>\n",
       "      <td>http://www.aekyunggroup.co.kr</td>\n",
       "      <td>서울특별시</td>\n",
       "    </tr>\n",
       "    <tr>\n",
       "      <th>3</th>\n",
       "      <td>054620</td>\n",
       "      <td>KOSDAQ</td>\n",
       "      <td>APS홀딩스</td>\n",
       "      <td>기타 금융업</td>\n",
       "      <td>인터넷 트래픽 솔루션</td>\n",
       "      <td>2001-12-04</td>\n",
       "      <td>12월</td>\n",
       "      <td>정기로</td>\n",
       "      <td>http://www.apsholdings.co.kr</td>\n",
       "      <td>경기도</td>\n",
       "    </tr>\n",
       "    <tr>\n",
       "      <th>4</th>\n",
       "      <td>265520</td>\n",
       "      <td>KOSDAQ</td>\n",
       "      <td>AP시스템</td>\n",
       "      <td>특수 목적용 기계 제조업</td>\n",
       "      <td>디스플레이 제조 장비</td>\n",
       "      <td>2017-04-07</td>\n",
       "      <td>12월</td>\n",
       "      <td>김영주</td>\n",
       "      <td>http://www.apsystems.co.kr</td>\n",
       "      <td>경기도</td>\n",
       "    </tr>\n",
       "    <tr>\n",
       "      <th>...</th>\n",
       "      <td>...</td>\n",
       "      <td>...</td>\n",
       "      <td>...</td>\n",
       "      <td>...</td>\n",
       "      <td>...</td>\n",
       "      <td>...</td>\n",
       "      <td>...</td>\n",
       "      <td>...</td>\n",
       "      <td>...</td>\n",
       "      <td>...</td>\n",
       "    </tr>\n",
       "    <tr>\n",
       "      <th>7907</th>\n",
       "      <td>000545</td>\n",
       "      <td>KOSPI</td>\n",
       "      <td>흥국화재우</td>\n",
       "      <td>NaN</td>\n",
       "      <td>NaN</td>\n",
       "      <td>NaT</td>\n",
       "      <td>NaN</td>\n",
       "      <td>NaN</td>\n",
       "      <td>NaN</td>\n",
       "      <td>NaN</td>\n",
       "    </tr>\n",
       "    <tr>\n",
       "      <th>7908</th>\n",
       "      <td>003280</td>\n",
       "      <td>KOSPI</td>\n",
       "      <td>흥아해운</td>\n",
       "      <td>해상 운송업</td>\n",
       "      <td>외항화물운송업(케미컬탱커)</td>\n",
       "      <td>1976-06-29</td>\n",
       "      <td>12월</td>\n",
       "      <td>이환구</td>\n",
       "      <td>http://www.heung-a.com</td>\n",
       "      <td>서울특별시</td>\n",
       "    </tr>\n",
       "    <tr>\n",
       "      <th>7909</th>\n",
       "      <td>037440</td>\n",
       "      <td>KOSDAQ</td>\n",
       "      <td>희림</td>\n",
       "      <td>건축기술, 엔지니어링 및 관련 기술 서비스업</td>\n",
       "      <td>설계 및 감리용역</td>\n",
       "      <td>2000-02-03</td>\n",
       "      <td>12월</td>\n",
       "      <td>정영균, 이목운, 허철호 (각자대표)</td>\n",
       "      <td>http://www.heerim.com</td>\n",
       "      <td>서울특별시</td>\n",
       "    </tr>\n",
       "    <tr>\n",
       "      <th>7910</th>\n",
       "      <td>419890</td>\n",
       "      <td>KOSPI</td>\n",
       "      <td>히어로즈 단기채권ESG액티브</td>\n",
       "      <td>NaN</td>\n",
       "      <td>NaN</td>\n",
       "      <td>NaT</td>\n",
       "      <td>NaN</td>\n",
       "      <td>NaN</td>\n",
       "      <td>NaN</td>\n",
       "      <td>NaN</td>\n",
       "    </tr>\n",
       "    <tr>\n",
       "      <th>7911</th>\n",
       "      <td>238490</td>\n",
       "      <td>KOSDAQ</td>\n",
       "      <td>힘스</td>\n",
       "      <td>특수 목적용 기계 제조업</td>\n",
       "      <td>OLED Mask 인장기, OLED Mask 검사기 등</td>\n",
       "      <td>2017-07-20</td>\n",
       "      <td>12월</td>\n",
       "      <td>김주환</td>\n",
       "      <td>http://www.hims.co.kr</td>\n",
       "      <td>인천광역시</td>\n",
       "    </tr>\n",
       "  </tbody>\n",
       "</table>\n",
       "<p>7912 rows × 10 columns</p>\n",
       "</div>"
      ],
      "text/plain": [
       "      Symbol  Market             Name                    Sector  \\\n",
       "0     060310  KOSDAQ               3S                  전자부품 제조업   \n",
       "1     095570   KOSPI           AJ네트웍스           산업용 기계 및 장비 임대업   \n",
       "2     006840   KOSPI            AK홀딩스                    기타 금융업   \n",
       "3     054620  KOSDAQ           APS홀딩스                    기타 금융업   \n",
       "4     265520  KOSDAQ            AP시스템             특수 목적용 기계 제조업   \n",
       "...      ...     ...              ...                       ...   \n",
       "7907  000545   KOSPI            흥국화재우                       NaN   \n",
       "7908  003280   KOSPI             흥아해운                    해상 운송업   \n",
       "7909  037440  KOSDAQ               희림  건축기술, 엔지니어링 및 관련 기술 서비스업   \n",
       "7910  419890   KOSPI  히어로즈 단기채권ESG액티브                       NaN   \n",
       "7911  238490  KOSDAQ               힘스             특수 목적용 기계 제조업   \n",
       "\n",
       "                            Industry ListingDate SettleMonth  \\\n",
       "0                        반도체 웨이퍼 캐리어  2002-04-23         03월   \n",
       "1                렌탈(파렛트, OA장비, 건설장비)  2015-08-21         12월   \n",
       "2                               지주사업  1999-08-11         12월   \n",
       "3                        인터넷 트래픽 솔루션  2001-12-04         12월   \n",
       "4                        디스플레이 제조 장비  2017-04-07         12월   \n",
       "...                              ...         ...         ...   \n",
       "7907                             NaN         NaT         NaN   \n",
       "7908                  외항화물운송업(케미컬탱커)  1976-06-29         12월   \n",
       "7909                       설계 및 감리용역  2000-02-03         12월   \n",
       "7910                             NaN         NaT         NaN   \n",
       "7911  OLED Mask 인장기, OLED Mask 검사기 등  2017-07-20         12월   \n",
       "\n",
       "            Representative                       HomePage Region  \n",
       "0                      김세완           http://www.3sref.com  서울특별시  \n",
       "1                 박대현, 손삼달         http://www.ajnet.co.kr  서울특별시  \n",
       "2        채형석, 이석주(각자 대표이사)  http://www.aekyunggroup.co.kr  서울특별시  \n",
       "3                      정기로   http://www.apsholdings.co.kr    경기도  \n",
       "4                      김영주     http://www.apsystems.co.kr    경기도  \n",
       "...                    ...                            ...    ...  \n",
       "7907                   NaN                            NaN    NaN  \n",
       "7908                   이환구         http://www.heung-a.com  서울특별시  \n",
       "7909  정영균, 이목운, 허철호 (각자대표)          http://www.heerim.com  서울특별시  \n",
       "7910                   NaN                            NaN    NaN  \n",
       "7911                   김주환          http://www.hims.co.kr  인천광역시  \n",
       "\n",
       "[7912 rows x 10 columns]"
      ]
     },
     "execution_count": 34,
     "metadata": {},
     "output_type": "execute_result"
    }
   ],
   "source": [
    "krx_data = fdr.StockListing('KRX')\n",
    "krx_data"
   ]
  },
  {
   "cell_type": "code",
   "execution_count": 35,
   "id": "06be6393",
   "metadata": {
    "ExecuteTime": {
     "end_time": "2021-08-31T09:56:16.470188Z",
     "start_time": "2021-08-31T09:56:13.862292Z"
    }
   },
   "outputs": [
    {
     "name": "stderr",
     "output_type": "stream",
     "text": [
      "C:\\Users\\G4560\\anaconda3\\lib\\site-packages\\FinanceDataReader\\wikipedia\\listing.py:13: FutureWarning: The default value of regex will change from True to False in a future version.\n",
      "  df['Symbol'] = df['Symbol'].str.replace('\\.', '')\n"
     ]
    },
    {
     "data": {
      "text/html": [
       "<div>\n",
       "<style scoped>\n",
       "    .dataframe tbody tr th:only-of-type {\n",
       "        vertical-align: middle;\n",
       "    }\n",
       "\n",
       "    .dataframe tbody tr th {\n",
       "        vertical-align: top;\n",
       "    }\n",
       "\n",
       "    .dataframe thead th {\n",
       "        text-align: right;\n",
       "    }\n",
       "</style>\n",
       "<table border=\"1\" class=\"dataframe\">\n",
       "  <thead>\n",
       "    <tr style=\"text-align: right;\">\n",
       "      <th></th>\n",
       "      <th>Symbol</th>\n",
       "      <th>Name</th>\n",
       "      <th>Sector</th>\n",
       "      <th>Industry</th>\n",
       "    </tr>\n",
       "  </thead>\n",
       "  <tbody>\n",
       "    <tr>\n",
       "      <th>0</th>\n",
       "      <td>MMM</td>\n",
       "      <td>3M</td>\n",
       "      <td>Industrials</td>\n",
       "      <td>Industrial Conglomerates</td>\n",
       "    </tr>\n",
       "    <tr>\n",
       "      <th>1</th>\n",
       "      <td>AOS</td>\n",
       "      <td>A. O. Smith</td>\n",
       "      <td>Industrials</td>\n",
       "      <td>Building Products</td>\n",
       "    </tr>\n",
       "    <tr>\n",
       "      <th>2</th>\n",
       "      <td>ABT</td>\n",
       "      <td>Abbott</td>\n",
       "      <td>Health Care</td>\n",
       "      <td>Health Care Equipment</td>\n",
       "    </tr>\n",
       "    <tr>\n",
       "      <th>3</th>\n",
       "      <td>ABBV</td>\n",
       "      <td>AbbVie</td>\n",
       "      <td>Health Care</td>\n",
       "      <td>Pharmaceuticals</td>\n",
       "    </tr>\n",
       "    <tr>\n",
       "      <th>4</th>\n",
       "      <td>ABMD</td>\n",
       "      <td>Abiomed</td>\n",
       "      <td>Health Care</td>\n",
       "      <td>Health Care Equipment</td>\n",
       "    </tr>\n",
       "    <tr>\n",
       "      <th>...</th>\n",
       "      <td>...</td>\n",
       "      <td>...</td>\n",
       "      <td>...</td>\n",
       "      <td>...</td>\n",
       "    </tr>\n",
       "    <tr>\n",
       "      <th>500</th>\n",
       "      <td>YUM</td>\n",
       "      <td>Yum! Brands</td>\n",
       "      <td>Consumer Discretionary</td>\n",
       "      <td>Restaurants</td>\n",
       "    </tr>\n",
       "    <tr>\n",
       "      <th>501</th>\n",
       "      <td>ZBRA</td>\n",
       "      <td>Zebra</td>\n",
       "      <td>Information Technology</td>\n",
       "      <td>Electronic Equipment &amp; Instruments</td>\n",
       "    </tr>\n",
       "    <tr>\n",
       "      <th>502</th>\n",
       "      <td>ZBH</td>\n",
       "      <td>Zimmer Biomet</td>\n",
       "      <td>Health Care</td>\n",
       "      <td>Health Care Equipment</td>\n",
       "    </tr>\n",
       "    <tr>\n",
       "      <th>503</th>\n",
       "      <td>ZION</td>\n",
       "      <td>Zions Bancorp</td>\n",
       "      <td>Financials</td>\n",
       "      <td>Regional Banks</td>\n",
       "    </tr>\n",
       "    <tr>\n",
       "      <th>504</th>\n",
       "      <td>ZTS</td>\n",
       "      <td>Zoetis</td>\n",
       "      <td>Health Care</td>\n",
       "      <td>Pharmaceuticals</td>\n",
       "    </tr>\n",
       "  </tbody>\n",
       "</table>\n",
       "<p>505 rows × 4 columns</p>\n",
       "</div>"
      ],
      "text/plain": [
       "    Symbol           Name                  Sector  \\\n",
       "0      MMM             3M             Industrials   \n",
       "1      AOS    A. O. Smith             Industrials   \n",
       "2      ABT         Abbott             Health Care   \n",
       "3     ABBV         AbbVie             Health Care   \n",
       "4     ABMD        Abiomed             Health Care   \n",
       "..     ...            ...                     ...   \n",
       "500    YUM    Yum! Brands  Consumer Discretionary   \n",
       "501   ZBRA          Zebra  Information Technology   \n",
       "502    ZBH  Zimmer Biomet             Health Care   \n",
       "503   ZION  Zions Bancorp              Financials   \n",
       "504    ZTS         Zoetis             Health Care   \n",
       "\n",
       "                               Industry  \n",
       "0              Industrial Conglomerates  \n",
       "1                     Building Products  \n",
       "2                 Health Care Equipment  \n",
       "3                       Pharmaceuticals  \n",
       "4                 Health Care Equipment  \n",
       "..                                  ...  \n",
       "500                         Restaurants  \n",
       "501  Electronic Equipment & Instruments  \n",
       "502               Health Care Equipment  \n",
       "503                      Regional Banks  \n",
       "504                     Pharmaceuticals  \n",
       "\n",
       "[505 rows x 4 columns]"
      ]
     },
     "execution_count": 35,
     "metadata": {},
     "output_type": "execute_result"
    }
   ],
   "source": [
    "snp_data = fdr.StockListing('S&P500')\n",
    "snp_data"
   ]
  },
  {
   "cell_type": "code",
   "execution_count": 36,
   "id": "a0498c21",
   "metadata": {
    "scrolled": true
   },
   "outputs": [
    {
     "data": {
      "text/html": [
       "<div>\n",
       "<style scoped>\n",
       "    .dataframe tbody tr th:only-of-type {\n",
       "        vertical-align: middle;\n",
       "    }\n",
       "\n",
       "    .dataframe tbody tr th {\n",
       "        vertical-align: top;\n",
       "    }\n",
       "\n",
       "    .dataframe thead th {\n",
       "        text-align: right;\n",
       "    }\n",
       "</style>\n",
       "<table border=\"1\" class=\"dataframe\">\n",
       "  <thead>\n",
       "    <tr style=\"text-align: right;\">\n",
       "      <th></th>\n",
       "      <th>Symbol</th>\n",
       "      <th>Market</th>\n",
       "      <th>Name</th>\n",
       "      <th>Sector</th>\n",
       "      <th>Industry</th>\n",
       "      <th>ListingDate</th>\n",
       "      <th>SettleMonth</th>\n",
       "      <th>Representative</th>\n",
       "      <th>HomePage</th>\n",
       "      <th>Region</th>\n",
       "    </tr>\n",
       "  </thead>\n",
       "  <tbody>\n",
       "    <tr>\n",
       "      <th>1720</th>\n",
       "      <td>035420</td>\n",
       "      <td>KOSPI</td>\n",
       "      <td>NAVER</td>\n",
       "      <td>자료처리, 호스팅, 포털 및 기타 인터넷 정보매개 서비스업</td>\n",
       "      <td>포털 서비스 및 온라인 광고</td>\n",
       "      <td>2008-11-28</td>\n",
       "      <td>12월</td>\n",
       "      <td>최수연</td>\n",
       "      <td>http://www.navercorp.com</td>\n",
       "      <td>경기도</td>\n",
       "    </tr>\n",
       "  </tbody>\n",
       "</table>\n",
       "</div>"
      ],
      "text/plain": [
       "      Symbol Market   Name                            Sector         Industry  \\\n",
       "1720  035420  KOSPI  NAVER  자료처리, 호스팅, 포털 및 기타 인터넷 정보매개 서비스업  포털 서비스 및 온라인 광고   \n",
       "\n",
       "     ListingDate SettleMonth Representative                  HomePage Region  \n",
       "1720  2008-11-28         12월            최수연  http://www.navercorp.com    경기도  "
      ]
     },
     "execution_count": 36,
     "metadata": {},
     "output_type": "execute_result"
    }
   ],
   "source": [
    "krx_data.loc[krx_data.Name == 'NAVER']"
   ]
  },
  {
   "cell_type": "code",
   "execution_count": 37,
   "id": "a1da762c",
   "metadata": {},
   "outputs": [
    {
     "data": {
      "text/html": [
       "<div>\n",
       "<style scoped>\n",
       "    .dataframe tbody tr th:only-of-type {\n",
       "        vertical-align: middle;\n",
       "    }\n",
       "\n",
       "    .dataframe tbody tr th {\n",
       "        vertical-align: top;\n",
       "    }\n",
       "\n",
       "    .dataframe thead th {\n",
       "        text-align: right;\n",
       "    }\n",
       "</style>\n",
       "<table border=\"1\" class=\"dataframe\">\n",
       "  <thead>\n",
       "    <tr style=\"text-align: right;\">\n",
       "      <th></th>\n",
       "      <th>Symbol</th>\n",
       "    </tr>\n",
       "  </thead>\n",
       "  <tbody>\n",
       "    <tr>\n",
       "      <th>1720</th>\n",
       "      <td>035420</td>\n",
       "    </tr>\n",
       "  </tbody>\n",
       "</table>\n",
       "</div>"
      ],
      "text/plain": [
       "      Symbol\n",
       "1720  035420"
      ]
     },
     "execution_count": 37,
     "metadata": {},
     "output_type": "execute_result"
    }
   ],
   "source": [
    "naver_symbol = krx_data.loc[krx_data.Name == 'NAVER', ['Symbol']]\n",
    "naver_symbol"
   ]
  },
  {
   "cell_type": "code",
   "execution_count": 38,
   "id": "d1ad67f6",
   "metadata": {},
   "outputs": [
    {
     "data": {
      "text/plain": [
       "'035420'"
      ]
     },
     "execution_count": 38,
     "metadata": {},
     "output_type": "execute_result"
    }
   ],
   "source": [
    "naver_symbol = krx_data.loc[krx_data.Name == 'NAVER', ['Symbol']].values[0][0]\n",
    "naver_symbol"
   ]
  },
  {
   "cell_type": "code",
   "execution_count": 41,
   "id": "9244c958",
   "metadata": {
    "ExecuteTime": {
     "end_time": "2021-08-31T09:56:16.710878Z",
     "start_time": "2021-08-31T09:56:16.472184Z"
    }
   },
   "outputs": [
    {
     "data": {
      "text/html": [
       "<div>\n",
       "<style scoped>\n",
       "    .dataframe tbody tr th:only-of-type {\n",
       "        vertical-align: middle;\n",
       "    }\n",
       "\n",
       "    .dataframe tbody tr th {\n",
       "        vertical-align: top;\n",
       "    }\n",
       "\n",
       "    .dataframe thead th {\n",
       "        text-align: right;\n",
       "    }\n",
       "</style>\n",
       "<table border=\"1\" class=\"dataframe\">\n",
       "  <thead>\n",
       "    <tr style=\"text-align: right;\">\n",
       "      <th></th>\n",
       "      <th>Open</th>\n",
       "      <th>High</th>\n",
       "      <th>Low</th>\n",
       "      <th>Close</th>\n",
       "      <th>Volume</th>\n",
       "      <th>Change</th>\n",
       "    </tr>\n",
       "    <tr>\n",
       "      <th>Date</th>\n",
       "      <th></th>\n",
       "      <th></th>\n",
       "      <th></th>\n",
       "      <th></th>\n",
       "      <th></th>\n",
       "      <th></th>\n",
       "    </tr>\n",
       "  </thead>\n",
       "  <tbody>\n",
       "    <tr>\n",
       "      <th>2018-01-02</th>\n",
       "      <td>174447</td>\n",
       "      <td>177251</td>\n",
       "      <td>174247</td>\n",
       "      <td>177251</td>\n",
       "      <td>93587</td>\n",
       "      <td>0.017240</td>\n",
       "    </tr>\n",
       "    <tr>\n",
       "      <th>2018-01-03</th>\n",
       "      <td>175448</td>\n",
       "      <td>177051</td>\n",
       "      <td>173045</td>\n",
       "      <td>174447</td>\n",
       "      <td>84790</td>\n",
       "      <td>-0.015819</td>\n",
       "    </tr>\n",
       "    <tr>\n",
       "      <th>2018-01-04</th>\n",
       "      <td>176048</td>\n",
       "      <td>179653</td>\n",
       "      <td>174847</td>\n",
       "      <td>178853</td>\n",
       "      <td>130112</td>\n",
       "      <td>0.025257</td>\n",
       "    </tr>\n",
       "    <tr>\n",
       "      <th>2018-01-05</th>\n",
       "      <td>178852</td>\n",
       "      <td>183858</td>\n",
       "      <td>176249</td>\n",
       "      <td>181857</td>\n",
       "      <td>136811</td>\n",
       "      <td>0.016796</td>\n",
       "    </tr>\n",
       "    <tr>\n",
       "      <th>2018-01-08</th>\n",
       "      <td>183258</td>\n",
       "      <td>190869</td>\n",
       "      <td>181856</td>\n",
       "      <td>190269</td>\n",
       "      <td>196338</td>\n",
       "      <td>0.046256</td>\n",
       "    </tr>\n",
       "    <tr>\n",
       "      <th>...</th>\n",
       "      <td>...</td>\n",
       "      <td>...</td>\n",
       "      <td>...</td>\n",
       "      <td>...</td>\n",
       "      <td>...</td>\n",
       "      <td>...</td>\n",
       "    </tr>\n",
       "    <tr>\n",
       "      <th>2019-12-23</th>\n",
       "      <td>185000</td>\n",
       "      <td>185500</td>\n",
       "      <td>182000</td>\n",
       "      <td>184000</td>\n",
       "      <td>250256</td>\n",
       "      <td>0.002725</td>\n",
       "    </tr>\n",
       "    <tr>\n",
       "      <th>2019-12-24</th>\n",
       "      <td>184000</td>\n",
       "      <td>184000</td>\n",
       "      <td>179000</td>\n",
       "      <td>182000</td>\n",
       "      <td>193440</td>\n",
       "      <td>-0.010870</td>\n",
       "    </tr>\n",
       "    <tr>\n",
       "      <th>2019-12-26</th>\n",
       "      <td>181500</td>\n",
       "      <td>183000</td>\n",
       "      <td>179000</td>\n",
       "      <td>180500</td>\n",
       "      <td>173426</td>\n",
       "      <td>-0.008242</td>\n",
       "    </tr>\n",
       "    <tr>\n",
       "      <th>2019-12-27</th>\n",
       "      <td>182000</td>\n",
       "      <td>185000</td>\n",
       "      <td>179000</td>\n",
       "      <td>183500</td>\n",
       "      <td>323473</td>\n",
       "      <td>0.016620</td>\n",
       "    </tr>\n",
       "    <tr>\n",
       "      <th>2019-12-30</th>\n",
       "      <td>183500</td>\n",
       "      <td>190000</td>\n",
       "      <td>183500</td>\n",
       "      <td>186500</td>\n",
       "      <td>376541</td>\n",
       "      <td>0.016349</td>\n",
       "    </tr>\n",
       "  </tbody>\n",
       "</table>\n",
       "<p>490 rows × 6 columns</p>\n",
       "</div>"
      ],
      "text/plain": [
       "              Open    High     Low   Close  Volume    Change\n",
       "Date                                                        \n",
       "2018-01-02  174447  177251  174247  177251   93587  0.017240\n",
       "2018-01-03  175448  177051  173045  174447   84790 -0.015819\n",
       "2018-01-04  176048  179653  174847  178853  130112  0.025257\n",
       "2018-01-05  178852  183858  176249  181857  136811  0.016796\n",
       "2018-01-08  183258  190869  181856  190269  196338  0.046256\n",
       "...            ...     ...     ...     ...     ...       ...\n",
       "2019-12-23  185000  185500  182000  184000  250256  0.002725\n",
       "2019-12-24  184000  184000  179000  182000  193440 -0.010870\n",
       "2019-12-26  181500  183000  179000  180500  173426 -0.008242\n",
       "2019-12-27  182000  185000  179000  183500  323473  0.016620\n",
       "2019-12-30  183500  190000  183500  186500  376541  0.016349\n",
       "\n",
       "[490 rows x 6 columns]"
      ]
     },
     "execution_count": 41,
     "metadata": {},
     "output_type": "execute_result"
    }
   ],
   "source": [
    "# krx_data에서 Name 칼럼의 값이 \"naver\"인 행의 Symbol칼럼 값을 가져오기\n",
    "naver_symbol = krx_data.loc[krx_data.Name == 'NAVER', ['Symbol']].values[0][0]\n",
    "\n",
    "# 2018년부터 2020년까지\n",
    "naver_df = fdr.DataReader(naver_symbol, '2018', '2020')\n",
    "naver_df"
   ]
  },
  {
   "cell_type": "code",
   "execution_count": 40,
   "id": "5bdd734c",
   "metadata": {
    "ExecuteTime": {
     "end_time": "2021-08-31T09:56:18.367915Z",
     "start_time": "2021-08-31T09:56:16.715597Z"
    }
   },
   "outputs": [
    {
     "ename": "JSONDecodeError",
     "evalue": "Expecting value: line 1 column 1 (char 0)",
     "output_type": "error",
     "traceback": [
      "\u001b[1;31m---------------------------------------------------------------------------\u001b[0m",
      "\u001b[1;31mJSONDecodeError\u001b[0m                           Traceback (most recent call last)",
      "\u001b[1;32mC:\\Users\\Public\\Documents\\ESTsoft\\CreatorTemp/ipykernel_9328/2668210119.py\u001b[0m in \u001b[0;36m<module>\u001b[1;34m\u001b[0m\n\u001b[1;32m----> 1\u001b[1;33m \u001b[0mamzn_df\u001b[0m \u001b[1;33m=\u001b[0m \u001b[0mfdr\u001b[0m\u001b[1;33m.\u001b[0m\u001b[0mDataReader\u001b[0m\u001b[1;33m(\u001b[0m\u001b[1;34m'AMZN'\u001b[0m\u001b[1;33m,\u001b[0m \u001b[1;34m'2018'\u001b[0m\u001b[1;33m,\u001b[0m\u001b[1;34m'2020'\u001b[0m\u001b[1;33m)\u001b[0m\u001b[1;33m\u001b[0m\u001b[1;33m\u001b[0m\u001b[0m\n\u001b[0m\u001b[0;32m      2\u001b[0m \u001b[0mamzn_df\u001b[0m\u001b[1;33m\u001b[0m\u001b[1;33m\u001b[0m\u001b[0m\n",
      "\u001b[1;32m~\\anaconda3\\lib\\site-packages\\FinanceDataReader\\data.py\u001b[0m in \u001b[0;36mDataReader\u001b[1;34m(symbol, start, end, exchange, data_source)\u001b[0m\n\u001b[0;32m     39\u001b[0m     \u001b[1;31m# Investing\u001b[0m\u001b[1;33m\u001b[0m\u001b[1;33m\u001b[0m\u001b[0m\n\u001b[0;32m     40\u001b[0m     \u001b[0mreader\u001b[0m \u001b[1;33m=\u001b[0m \u001b[0mInvestingDailyReader\u001b[0m\u001b[1;33m\u001b[0m\u001b[1;33m\u001b[0m\u001b[0m\n\u001b[1;32m---> 41\u001b[1;33m     \u001b[0mdf\u001b[0m \u001b[1;33m=\u001b[0m \u001b[0mreader\u001b[0m\u001b[1;33m(\u001b[0m\u001b[0msymbol\u001b[0m\u001b[1;33m,\u001b[0m \u001b[0mstart\u001b[0m\u001b[1;33m,\u001b[0m \u001b[0mend\u001b[0m\u001b[1;33m,\u001b[0m \u001b[0mexchange\u001b[0m\u001b[1;33m,\u001b[0m \u001b[0mdata_source\u001b[0m\u001b[1;33m)\u001b[0m\u001b[1;33m.\u001b[0m\u001b[0mread\u001b[0m\u001b[1;33m(\u001b[0m\u001b[1;33m)\u001b[0m\u001b[1;33m\u001b[0m\u001b[1;33m\u001b[0m\u001b[0m\n\u001b[0m\u001b[0;32m     42\u001b[0m     \u001b[0mend\u001b[0m \u001b[1;33m=\u001b[0m \u001b[0mmin\u001b[0m\u001b[1;33m(\u001b[0m\u001b[1;33m[\u001b[0m\u001b[0mpd\u001b[0m\u001b[1;33m.\u001b[0m\u001b[0mto_datetime\u001b[0m\u001b[1;33m(\u001b[0m\u001b[0mend\u001b[0m\u001b[1;33m)\u001b[0m\u001b[1;33m,\u001b[0m \u001b[0mdatetime\u001b[0m\u001b[1;33m.\u001b[0m\u001b[0mtoday\u001b[0m\u001b[1;33m(\u001b[0m\u001b[1;33m)\u001b[0m\u001b[1;33m]\u001b[0m\u001b[1;33m)\u001b[0m\u001b[1;33m\u001b[0m\u001b[1;33m\u001b[0m\u001b[0m\n\u001b[0;32m     43\u001b[0m     \u001b[1;32mwhile\u001b[0m \u001b[0mlen\u001b[0m\u001b[1;33m(\u001b[0m\u001b[0mdf\u001b[0m\u001b[1;33m)\u001b[0m \u001b[1;32mand\u001b[0m \u001b[0mdf\u001b[0m\u001b[1;33m.\u001b[0m\u001b[0mindex\u001b[0m\u001b[1;33m[\u001b[0m\u001b[1;33m-\u001b[0m\u001b[1;36m1\u001b[0m\u001b[1;33m]\u001b[0m \u001b[1;33m<\u001b[0m \u001b[0mend\u001b[0m\u001b[1;33m:\u001b[0m \u001b[1;31m# issues/30\u001b[0m\u001b[1;33m\u001b[0m\u001b[1;33m\u001b[0m\u001b[0m\n",
      "\u001b[1;32m~\\anaconda3\\lib\\site-packages\\FinanceDataReader\\investing\\data.py\u001b[0m in \u001b[0;36mread\u001b[1;34m(self)\u001b[0m\n\u001b[0;32m     60\u001b[0m         \u001b[0mstart_date_str\u001b[0m \u001b[1;33m=\u001b[0m \u001b[0mself\u001b[0m\u001b[1;33m.\u001b[0m\u001b[0mstart\u001b[0m\u001b[1;33m.\u001b[0m\u001b[0mstrftime\u001b[0m\u001b[1;33m(\u001b[0m\u001b[1;34m'%m/%d/%Y'\u001b[0m\u001b[1;33m)\u001b[0m\u001b[1;33m\u001b[0m\u001b[1;33m\u001b[0m\u001b[0m\n\u001b[0;32m     61\u001b[0m         \u001b[0mend_date_str\u001b[0m \u001b[1;33m=\u001b[0m \u001b[0mself\u001b[0m\u001b[1;33m.\u001b[0m\u001b[0mend\u001b[0m\u001b[1;33m.\u001b[0m\u001b[0mstrftime\u001b[0m\u001b[1;33m(\u001b[0m\u001b[1;34m'%m/%d/%Y'\u001b[0m\u001b[1;33m)\u001b[0m\u001b[1;33m\u001b[0m\u001b[1;33m\u001b[0m\u001b[0m\n\u001b[1;32m---> 62\u001b[1;33m         \u001b[0mcurr_id\u001b[0m \u001b[1;33m=\u001b[0m \u001b[0mself\u001b[0m\u001b[1;33m.\u001b[0m\u001b[0m_get_currid_investing\u001b[0m\u001b[1;33m(\u001b[0m\u001b[0mself\u001b[0m\u001b[1;33m.\u001b[0m\u001b[0msymbol\u001b[0m\u001b[1;33m,\u001b[0m \u001b[0mself\u001b[0m\u001b[1;33m.\u001b[0m\u001b[0mexchange\u001b[0m\u001b[1;33m,\u001b[0m \u001b[0mself\u001b[0m\u001b[1;33m.\u001b[0m\u001b[0mdata_source\u001b[0m\u001b[1;33m)\u001b[0m\u001b[1;33m\u001b[0m\u001b[1;33m\u001b[0m\u001b[0m\n\u001b[0m\u001b[0;32m     63\u001b[0m         \u001b[1;32mif\u001b[0m \u001b[1;32mnot\u001b[0m \u001b[0mcurr_id\u001b[0m\u001b[1;33m:\u001b[0m\u001b[1;33m\u001b[0m\u001b[1;33m\u001b[0m\u001b[0m\n\u001b[0;32m     64\u001b[0m             \u001b[1;32mraise\u001b[0m \u001b[0mValueError\u001b[0m\u001b[1;33m(\u001b[0m\u001b[1;34m\"Symbol unsupported or not found\"\u001b[0m\u001b[1;33m)\u001b[0m\u001b[1;33m\u001b[0m\u001b[1;33m\u001b[0m\u001b[0m\n",
      "\u001b[1;32m~\\anaconda3\\lib\\site-packages\\FinanceDataReader\\investing\\data.py\u001b[0m in \u001b[0;36m_get_currid_investing\u001b[1;34m(self, symbol, exchange, data_source)\u001b[0m\n\u001b[0;32m     28\u001b[0m         }\n\u001b[0;32m     29\u001b[0m         \u001b[0mr\u001b[0m \u001b[1;33m=\u001b[0m \u001b[0mrequests\u001b[0m\u001b[1;33m.\u001b[0m\u001b[0mpost\u001b[0m\u001b[1;33m(\u001b[0m\u001b[0murl\u001b[0m\u001b[1;33m,\u001b[0m \u001b[0mdata\u001b[0m\u001b[1;33m=\u001b[0m\u001b[1;33m{\u001b[0m\u001b[1;34m'search_text'\u001b[0m\u001b[1;33m:\u001b[0m \u001b[0msymbol\u001b[0m\u001b[1;33m}\u001b[0m\u001b[1;33m,\u001b[0m \u001b[0mheaders\u001b[0m\u001b[1;33m=\u001b[0m\u001b[0mheaders\u001b[0m\u001b[1;33m)\u001b[0m\u001b[1;33m\u001b[0m\u001b[1;33m\u001b[0m\u001b[0m\n\u001b[1;32m---> 30\u001b[1;33m         \u001b[0mjo\u001b[0m \u001b[1;33m=\u001b[0m \u001b[0mr\u001b[0m\u001b[1;33m.\u001b[0m\u001b[0mjson\u001b[0m\u001b[1;33m(\u001b[0m\u001b[1;33m)\u001b[0m\u001b[1;33m\u001b[0m\u001b[1;33m\u001b[0m\u001b[0m\n\u001b[0m\u001b[0;32m     31\u001b[0m         \u001b[1;32mif\u001b[0m \u001b[0mlen\u001b[0m\u001b[1;33m(\u001b[0m\u001b[0mjo\u001b[0m\u001b[1;33m[\u001b[0m\u001b[1;34m'quotes'\u001b[0m\u001b[1;33m]\u001b[0m\u001b[1;33m)\u001b[0m \u001b[1;33m==\u001b[0m \u001b[1;36m0\u001b[0m\u001b[1;33m:\u001b[0m\u001b[1;33m\u001b[0m\u001b[1;33m\u001b[0m\u001b[0m\n\u001b[0;32m     32\u001b[0m             \u001b[1;32mraise\u001b[0m \u001b[0mValueError\u001b[0m\u001b[1;33m(\u001b[0m\u001b[1;34mf\"Symbol('{symbol}') not found\"\u001b[0m\u001b[1;33m)\u001b[0m\u001b[1;33m\u001b[0m\u001b[1;33m\u001b[0m\u001b[0m\n",
      "\u001b[1;32m~\\anaconda3\\lib\\json\\__init__.py\u001b[0m in \u001b[0;36mloads\u001b[1;34m(s, cls, object_hook, parse_float, parse_int, parse_constant, object_pairs_hook, **kw)\u001b[0m\n\u001b[0;32m    344\u001b[0m             \u001b[0mparse_int\u001b[0m \u001b[1;32mis\u001b[0m \u001b[1;32mNone\u001b[0m \u001b[1;32mand\u001b[0m \u001b[0mparse_float\u001b[0m \u001b[1;32mis\u001b[0m \u001b[1;32mNone\u001b[0m \u001b[1;32mand\u001b[0m\u001b[1;33m\u001b[0m\u001b[1;33m\u001b[0m\u001b[0m\n\u001b[0;32m    345\u001b[0m             parse_constant is None and object_pairs_hook is None and not kw):\n\u001b[1;32m--> 346\u001b[1;33m         \u001b[1;32mreturn\u001b[0m \u001b[0m_default_decoder\u001b[0m\u001b[1;33m.\u001b[0m\u001b[0mdecode\u001b[0m\u001b[1;33m(\u001b[0m\u001b[0ms\u001b[0m\u001b[1;33m)\u001b[0m\u001b[1;33m\u001b[0m\u001b[1;33m\u001b[0m\u001b[0m\n\u001b[0m\u001b[0;32m    347\u001b[0m     \u001b[1;32mif\u001b[0m \u001b[0mcls\u001b[0m \u001b[1;32mis\u001b[0m \u001b[1;32mNone\u001b[0m\u001b[1;33m:\u001b[0m\u001b[1;33m\u001b[0m\u001b[1;33m\u001b[0m\u001b[0m\n\u001b[0;32m    348\u001b[0m         \u001b[0mcls\u001b[0m \u001b[1;33m=\u001b[0m \u001b[0mJSONDecoder\u001b[0m\u001b[1;33m\u001b[0m\u001b[1;33m\u001b[0m\u001b[0m\n",
      "\u001b[1;32m~\\anaconda3\\lib\\json\\decoder.py\u001b[0m in \u001b[0;36mdecode\u001b[1;34m(self, s, _w)\u001b[0m\n\u001b[0;32m    335\u001b[0m \u001b[1;33m\u001b[0m\u001b[0m\n\u001b[0;32m    336\u001b[0m         \"\"\"\n\u001b[1;32m--> 337\u001b[1;33m         \u001b[0mobj\u001b[0m\u001b[1;33m,\u001b[0m \u001b[0mend\u001b[0m \u001b[1;33m=\u001b[0m \u001b[0mself\u001b[0m\u001b[1;33m.\u001b[0m\u001b[0mraw_decode\u001b[0m\u001b[1;33m(\u001b[0m\u001b[0ms\u001b[0m\u001b[1;33m,\u001b[0m \u001b[0midx\u001b[0m\u001b[1;33m=\u001b[0m\u001b[0m_w\u001b[0m\u001b[1;33m(\u001b[0m\u001b[0ms\u001b[0m\u001b[1;33m,\u001b[0m \u001b[1;36m0\u001b[0m\u001b[1;33m)\u001b[0m\u001b[1;33m.\u001b[0m\u001b[0mend\u001b[0m\u001b[1;33m(\u001b[0m\u001b[1;33m)\u001b[0m\u001b[1;33m)\u001b[0m\u001b[1;33m\u001b[0m\u001b[1;33m\u001b[0m\u001b[0m\n\u001b[0m\u001b[0;32m    338\u001b[0m         \u001b[0mend\u001b[0m \u001b[1;33m=\u001b[0m \u001b[0m_w\u001b[0m\u001b[1;33m(\u001b[0m\u001b[0ms\u001b[0m\u001b[1;33m,\u001b[0m \u001b[0mend\u001b[0m\u001b[1;33m)\u001b[0m\u001b[1;33m.\u001b[0m\u001b[0mend\u001b[0m\u001b[1;33m(\u001b[0m\u001b[1;33m)\u001b[0m\u001b[1;33m\u001b[0m\u001b[1;33m\u001b[0m\u001b[0m\n\u001b[0;32m    339\u001b[0m         \u001b[1;32mif\u001b[0m \u001b[0mend\u001b[0m \u001b[1;33m!=\u001b[0m \u001b[0mlen\u001b[0m\u001b[1;33m(\u001b[0m\u001b[0ms\u001b[0m\u001b[1;33m)\u001b[0m\u001b[1;33m:\u001b[0m\u001b[1;33m\u001b[0m\u001b[1;33m\u001b[0m\u001b[0m\n",
      "\u001b[1;32m~\\anaconda3\\lib\\json\\decoder.py\u001b[0m in \u001b[0;36mraw_decode\u001b[1;34m(self, s, idx)\u001b[0m\n\u001b[0;32m    353\u001b[0m             \u001b[0mobj\u001b[0m\u001b[1;33m,\u001b[0m \u001b[0mend\u001b[0m \u001b[1;33m=\u001b[0m \u001b[0mself\u001b[0m\u001b[1;33m.\u001b[0m\u001b[0mscan_once\u001b[0m\u001b[1;33m(\u001b[0m\u001b[0ms\u001b[0m\u001b[1;33m,\u001b[0m \u001b[0midx\u001b[0m\u001b[1;33m)\u001b[0m\u001b[1;33m\u001b[0m\u001b[1;33m\u001b[0m\u001b[0m\n\u001b[0;32m    354\u001b[0m         \u001b[1;32mexcept\u001b[0m \u001b[0mStopIteration\u001b[0m \u001b[1;32mas\u001b[0m \u001b[0merr\u001b[0m\u001b[1;33m:\u001b[0m\u001b[1;33m\u001b[0m\u001b[1;33m\u001b[0m\u001b[0m\n\u001b[1;32m--> 355\u001b[1;33m             \u001b[1;32mraise\u001b[0m \u001b[0mJSONDecodeError\u001b[0m\u001b[1;33m(\u001b[0m\u001b[1;34m\"Expecting value\"\u001b[0m\u001b[1;33m,\u001b[0m \u001b[0ms\u001b[0m\u001b[1;33m,\u001b[0m \u001b[0merr\u001b[0m\u001b[1;33m.\u001b[0m\u001b[0mvalue\u001b[0m\u001b[1;33m)\u001b[0m \u001b[1;32mfrom\u001b[0m \u001b[1;32mNone\u001b[0m\u001b[1;33m\u001b[0m\u001b[1;33m\u001b[0m\u001b[0m\n\u001b[0m\u001b[0;32m    356\u001b[0m         \u001b[1;32mreturn\u001b[0m \u001b[0mobj\u001b[0m\u001b[1;33m,\u001b[0m \u001b[0mend\u001b[0m\u001b[1;33m\u001b[0m\u001b[1;33m\u001b[0m\u001b[0m\n",
      "\u001b[1;31mJSONDecodeError\u001b[0m: Expecting value: line 1 column 1 (char 0)"
     ]
    }
   ],
   "source": [
    "amzn_df = fdr.DataReader('AMZN', '2018','2020')\n",
    "amzn_df"
   ]
  },
  {
   "cell_type": "code",
   "execution_count": null,
   "id": "a810ff38",
   "metadata": {
    "ExecuteTime": {
     "end_time": "2021-08-31T09:56:25.010485Z",
     "start_time": "2021-08-31T09:56:18.372760Z"
    }
   },
   "outputs": [],
   "source": [
    "curr = fdr.DataReader('USD/KRW', '2000')\n",
    "curr.head()"
   ]
  },
  {
   "cell_type": "code",
   "execution_count": null,
   "id": "49934e76",
   "metadata": {
    "ExecuteTime": {
     "end_time": "2021-08-31T09:56:31.937041Z",
     "start_time": "2021-08-31T09:56:25.013521Z"
    }
   },
   "outputs": [],
   "source": [
    "# key : 종목명 / value : symbol\n",
    "dct = dict(fdr.StockListing('KRX')[['Name','Symbol']].values)"
   ]
  },
  {
   "cell_type": "code",
   "execution_count": null,
   "id": "5702a539",
   "metadata": {
    "ExecuteTime": {
     "end_time": "2021-08-31T09:56:31.981785Z",
     "start_time": "2021-08-31T09:56:31.939470Z"
    }
   },
   "outputs": [],
   "source": [
    "import json\n",
    "\n",
    "#위의 dict데이터를 json포맷으로 저장하고 불러오기\n",
    "json.dump(dct, open('data/stock2code.json','w'))\n",
    "stock2code = json.load(open('data/stock2code.json','r'))"
   ]
  },
  {
   "cell_type": "markdown",
   "id": "c7a7203a",
   "metadata": {},
   "source": [
    "## YahooFinance"
   ]
  },
  {
   "cell_type": "code",
   "execution_count": null,
   "id": "a4fe4818",
   "metadata": {
    "ExecuteTime": {
     "end_time": "2021-08-31T09:56:36.562520Z",
     "start_time": "2021-08-31T09:56:31.983780Z"
    }
   },
   "outputs": [],
   "source": [
    "!pip install yahoo-finance\n",
    "import yfinance as yf"
   ]
  },
  {
   "cell_type": "code",
   "execution_count": null,
   "id": "6ea5234a",
   "metadata": {
    "ExecuteTime": {
     "end_time": "2021-08-31T09:56:38.922132Z",
     "start_time": "2021-08-31T09:56:36.568470Z"
    }
   },
   "outputs": [],
   "source": [
    "df_amzn = yf.download('AMZN', \n",
    "           start=  '2018-01-01',\n",
    "           end='2020-12-31',\n",
    "           progress=False,  #진행상황 표시 여부 \n",
    "           auto_adjust = False,  #False로 하면 Adjust 전의 종가와 후의 종가 모두 확인 가능\n",
    "           actions='inline')\n",
    "df_amzn"
   ]
  },
  {
   "cell_type": "code",
   "execution_count": null,
   "id": "89a28d8e",
   "metadata": {
    "ExecuteTime": {
     "end_time": "2021-08-31T09:56:39.360172Z",
     "start_time": "2021-08-31T09:56:38.923899Z"
    },
    "scrolled": true
   },
   "outputs": [],
   "source": [
    "amzn = yf.Ticker('AMZN')\n",
    "amzn.history(period='6mo', interval = '5d')  #6개월전부터 현재까지, 5일 간격으로"
   ]
  },
  {
   "cell_type": "code",
   "execution_count": null,
   "id": "dff57142",
   "metadata": {
    "ExecuteTime": {
     "end_time": "2021-08-31T09:56:43.900555Z",
     "start_time": "2021-08-31T09:56:39.367010Z"
    },
    "scrolled": true
   },
   "outputs": [],
   "source": [
    "amzn.info"
   ]
  },
  {
   "cell_type": "code",
   "execution_count": null,
   "id": "910ce093",
   "metadata": {
    "ExecuteTime": {
     "end_time": "2021-08-31T09:56:43.976268Z",
     "start_time": "2021-08-31T09:56:43.906833Z"
    },
    "scrolled": true
   },
   "outputs": [],
   "source": [
    "amzn.get_balancesheet().iloc[0:6, :]  # 재무상태표"
   ]
  },
  {
   "cell_type": "code",
   "execution_count": null,
   "id": "ddfef289",
   "metadata": {
    "ExecuteTime": {
     "end_time": "2021-08-31T09:56:48.584744Z",
     "start_time": "2021-08-31T09:56:43.982015Z"
    }
   },
   "outputs": [],
   "source": [
    "yf.Ticker('005930.KS').info"
   ]
  },
  {
   "cell_type": "code",
   "execution_count": null,
   "id": "caf0d96e",
   "metadata": {
    "ExecuteTime": {
     "end_time": "2021-08-31T09:56:53.139634Z",
     "start_time": "2021-08-31T09:56:48.588733Z"
    }
   },
   "outputs": [],
   "source": [
    "yf.Ticker('005930.KS').get_balancesheet()"
   ]
  },
  {
   "cell_type": "markdown",
   "id": "2162ed0a",
   "metadata": {},
   "source": [
    "## Quandl"
   ]
  },
  {
   "cell_type": "markdown",
   "id": "094da61b",
   "metadata": {},
   "source": [
    "- 개인 API key 필요"
   ]
  },
  {
   "cell_type": "code",
   "execution_count": null,
   "id": "752bed4a",
   "metadata": {
    "ExecuteTime": {
     "end_time": "2021-08-31T09:56:59.239446Z",
     "start_time": "2021-08-31T09:56:53.141486Z"
    }
   },
   "outputs": [],
   "source": [
    "!pip install quandl\n",
    "import quandl"
   ]
  },
  {
   "cell_type": "code",
   "execution_count": null,
   "id": "2d20a2eb",
   "metadata": {
    "ExecuteTime": {
     "end_time": "2021-08-31T09:56:59.254402Z",
     "start_time": "2021-08-31T09:56:59.245419Z"
    }
   },
   "outputs": [],
   "source": [
    "quandl_key = '3n7gaTfhKSFKish4XKLN'\n",
    "quandl.ApiConfig.api_key = quandl_key"
   ]
  },
  {
   "cell_type": "markdown",
   "id": "fa2961e4",
   "metadata": {},
   "source": [
    "London Bullion Market Association"
   ]
  },
  {
   "cell_type": "markdown",
   "id": "9ccaad56",
   "metadata": {},
   "source": [
    "금 : LBMA/GOLD\n",
    "\n",
    "원유 : OPEC/ORB"
   ]
  },
  {
   "cell_type": "code",
   "execution_count": null,
   "id": "c5667d14",
   "metadata": {
    "ExecuteTime": {
     "end_time": "2021-08-31T09:57:01.628213Z",
     "start_time": "2021-08-31T09:56:59.258386Z"
    }
   },
   "outputs": [],
   "source": [
    "df_quandl = quandl.get(dataset=['LBMA/GOLD'], start_date='2015-01-01')\n",
    "df_quandl"
   ]
  },
  {
   "cell_type": "code",
   "execution_count": null,
   "id": "0ae4809d",
   "metadata": {
    "ExecuteTime": {
     "end_time": "2021-08-31T09:57:02.609981Z",
     "start_time": "2021-08-31T09:57:01.635748Z"
    }
   },
   "outputs": [],
   "source": [
    "cpi = quandl.get(dataset='RATEINF/CPI_USA', start_date='2015-01-01')\n",
    "cpi"
   ]
  },
  {
   "cell_type": "markdown",
   "id": "e46ede5f",
   "metadata": {},
   "source": [
    "## OpenDartReader"
   ]
  },
  {
   "cell_type": "markdown",
   "id": "b4c971d1",
   "metadata": {},
   "source": [
    "https://github.com/FinanceData/OpenDartReader"
   ]
  },
  {
   "cell_type": "code",
   "execution_count": null,
   "id": "f9945535",
   "metadata": {
    "ExecuteTime": {
     "end_time": "2021-08-31T09:57:07.747625Z",
     "start_time": "2021-08-31T09:57:02.613013Z"
    }
   },
   "outputs": [],
   "source": [
    "!pip install opendartreader\n",
    "import OpenDartReader"
   ]
  }
 ],
 "metadata": {
  "hide_input": false,
  "kernelspec": {
   "display_name": "Python 3 (ipykernel)",
   "language": "python",
   "name": "python3"
  },
  "language_info": {
   "codemirror_mode": {
    "name": "ipython",
    "version": 3
   },
   "file_extension": ".py",
   "mimetype": "text/x-python",
   "name": "python",
   "nbconvert_exporter": "python",
   "pygments_lexer": "ipython3",
   "version": "3.9.7"
  },
  "toc": {
   "base_numbering": 1,
   "nav_menu": {},
   "number_sections": true,
   "sideBar": true,
   "skip_h1_title": false,
   "title_cell": "Table of Contents",
   "title_sidebar": "Contents",
   "toc_cell": false,
   "toc_position": {},
   "toc_section_display": true,
   "toc_window_display": false
  },
  "varInspector": {
   "cols": {
    "lenName": 16,
    "lenType": 16,
    "lenVar": 40
   },
   "kernels_config": {
    "python": {
     "delete_cmd_postfix": "",
     "delete_cmd_prefix": "del ",
     "library": "var_list.py",
     "varRefreshCmd": "print(var_dic_list())"
    },
    "r": {
     "delete_cmd_postfix": ") ",
     "delete_cmd_prefix": "rm(",
     "library": "var_list.r",
     "varRefreshCmd": "cat(var_dic_list()) "
    }
   },
   "types_to_exclude": [
    "module",
    "function",
    "builtin_function_or_method",
    "instance",
    "_Feature"
   ],
   "window_display": false
  }
 },
 "nbformat": 4,
 "nbformat_minor": 5
}
