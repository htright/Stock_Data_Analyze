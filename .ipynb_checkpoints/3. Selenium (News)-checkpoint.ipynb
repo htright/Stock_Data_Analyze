{
 "cells": [
  {
   "cell_type": "markdown",
   "id": "e5f0d2f3",
   "metadata": {},
   "source": [
    "### selenium (News)"
   ]
  },
  {
   "cell_type": "code",
   "execution_count": 29,
   "id": "31cc81ef",
   "metadata": {
    "ExecuteTime": {
     "end_time": "2021-08-31T09:57:45.413249Z",
     "start_time": "2021-08-31T09:57:45.208229Z"
    }
   },
   "outputs": [],
   "source": [
    "import requests\n",
    "from bs4 import BeautifulSoup\n",
    "import pandas as pd\n",
    "from selenium import webdriver"
   ]
  },
  {
   "cell_type": "code",
   "execution_count": 30,
   "id": "9fda6a57",
   "metadata": {},
   "outputs": [],
   "source": [
    "from selenium import webdriver   # 웹 브라우저 자동화\n",
    "from selenium.webdriver.common.keys import Keys\n",
    "import chromedriver_autoinstaller"
   ]
  },
  {
   "cell_type": "code",
   "execution_count": 31,
   "id": "5de020b2",
   "metadata": {
    "ExecuteTime": {
     "end_time": "2021-08-31T09:57:50.153686Z",
     "start_time": "2021-08-31T09:57:45.416159Z"
    },
    "scrolled": true
   },
   "outputs": [
    {
     "name": "stderr",
     "output_type": "stream",
     "text": [
      "C:\\Users\\Public\\Documents\\ESTsoft\\CreatorTemp/ipykernel_17112/3559149288.py:3: DeprecationWarning: executable_path has been deprecated, please pass in a Service object\n",
      "  driver = webdriver.Chrome(r\"chromedriver.exe\")\n"
     ]
    }
   ],
   "source": [
    "pg = 3\n",
    "url = 'https://news.naver.com/main/main.naver?mode=LSD&mid=shm&sid1=101#&date=%2000:00:00&page={}'.format(pg)\n",
    "driver = webdriver.Chrome(r\"chromedriver.exe\")\n",
    "driver.get(url)"
   ]
  },
  {
   "cell_type": "code",
   "execution_count": 33,
   "id": "7c8295c9",
   "metadata": {
    "ExecuteTime": {
     "end_time": "2021-08-31T09:57:50.243448Z",
     "start_time": "2021-08-31T09:57:50.157687Z"
    }
   },
   "outputs": [
    {
     "name": "stderr",
     "output_type": "stream",
     "text": [
      "C:\\Users\\Public\\Documents\\ESTsoft\\CreatorTemp/ipykernel_17112/4055734498.py:1: DeprecationWarning: find_elements_by_* commands are deprecated. Please use find_elements() instead\n",
      "  news = driver.find_elements_by_css_selector('#section_body li')\n"
     ]
    },
    {
     "data": {
      "text/plain": [
       "20"
      ]
     },
     "execution_count": 33,
     "metadata": {},
     "output_type": "execute_result"
    }
   ],
   "source": [
    "news = driver.find_elements_by_css_selector('#section_body li') # #section_body > ul.type06_headline > li:nth-child(1) 에서 수정\n",
    "len(news)"
   ]
  },
  {
   "cell_type": "code",
   "execution_count": 36,
   "id": "e43376ce",
   "metadata": {},
   "outputs": [
    {
     "data": {
      "text/plain": [
       "[<selenium.webdriver.remote.webelement.WebElement (session=\"9b16e365ad3073716d843238fcf8e43f\", element=\"20958721-ffd0-4d33-a9d7-657acaa07c30\")>,\n",
       " <selenium.webdriver.remote.webelement.WebElement (session=\"9b16e365ad3073716d843238fcf8e43f\", element=\"4f7e62d7-1cfc-4542-8277-ac1c01e480cd\")>,\n",
       " <selenium.webdriver.remote.webelement.WebElement (session=\"9b16e365ad3073716d843238fcf8e43f\", element=\"d210fed9-d9a4-4bfb-a0f0-7e94a690b446\")>,\n",
       " <selenium.webdriver.remote.webelement.WebElement (session=\"9b16e365ad3073716d843238fcf8e43f\", element=\"c2c9fa61-48af-42ee-b1c5-a16f84bbe47f\")>,\n",
       " <selenium.webdriver.remote.webelement.WebElement (session=\"9b16e365ad3073716d843238fcf8e43f\", element=\"315ee3d1-9a8e-4603-ba11-86e60c3a6705\")>,\n",
       " <selenium.webdriver.remote.webelement.WebElement (session=\"9b16e365ad3073716d843238fcf8e43f\", element=\"48f08dea-5612-4cc4-995e-84a50ca5ec15\")>,\n",
       " <selenium.webdriver.remote.webelement.WebElement (session=\"9b16e365ad3073716d843238fcf8e43f\", element=\"6988ccee-94d0-4962-b463-de9615ea5b72\")>,\n",
       " <selenium.webdriver.remote.webelement.WebElement (session=\"9b16e365ad3073716d843238fcf8e43f\", element=\"b16700b7-28a0-4057-b08c-53a1d9343e0b\")>,\n",
       " <selenium.webdriver.remote.webelement.WebElement (session=\"9b16e365ad3073716d843238fcf8e43f\", element=\"c3c2a272-a375-4b2a-bcb3-33b7bc099752\")>,\n",
       " <selenium.webdriver.remote.webelement.WebElement (session=\"9b16e365ad3073716d843238fcf8e43f\", element=\"cb42fe52-02e7-46a2-ae85-3ceff0208d7c\")>,\n",
       " <selenium.webdriver.remote.webelement.WebElement (session=\"9b16e365ad3073716d843238fcf8e43f\", element=\"893974ab-0ee5-4adb-a2fd-d1f88ccd95c8\")>,\n",
       " <selenium.webdriver.remote.webelement.WebElement (session=\"9b16e365ad3073716d843238fcf8e43f\", element=\"fef6df11-aa2e-40e9-b9f6-04e00af524ea\")>,\n",
       " <selenium.webdriver.remote.webelement.WebElement (session=\"9b16e365ad3073716d843238fcf8e43f\", element=\"0586ad18-334f-40f5-8d06-6a501bc12247\")>,\n",
       " <selenium.webdriver.remote.webelement.WebElement (session=\"9b16e365ad3073716d843238fcf8e43f\", element=\"6522b37e-b054-40e6-a582-fcb61b30bfc2\")>,\n",
       " <selenium.webdriver.remote.webelement.WebElement (session=\"9b16e365ad3073716d843238fcf8e43f\", element=\"5c3554bc-6e83-4993-b775-732e89fecf03\")>,\n",
       " <selenium.webdriver.remote.webelement.WebElement (session=\"9b16e365ad3073716d843238fcf8e43f\", element=\"6b9dccdd-ccbd-43ef-b8e9-f1ee43bf2bd2\")>,\n",
       " <selenium.webdriver.remote.webelement.WebElement (session=\"9b16e365ad3073716d843238fcf8e43f\", element=\"c8899901-c529-4fc0-8451-32f6d10a40ba\")>,\n",
       " <selenium.webdriver.remote.webelement.WebElement (session=\"9b16e365ad3073716d843238fcf8e43f\", element=\"183aaa6a-84ec-4edb-a55f-9b3778a59668\")>,\n",
       " <selenium.webdriver.remote.webelement.WebElement (session=\"9b16e365ad3073716d843238fcf8e43f\", element=\"6e23f291-2844-4513-b648-5c40117a48f4\")>,\n",
       " <selenium.webdriver.remote.webelement.WebElement (session=\"9b16e365ad3073716d843238fcf8e43f\", element=\"e8369488-b3fa-4e05-a4c5-4a5c1196fff7\")>]"
      ]
     },
     "execution_count": 36,
     "metadata": {},
     "output_type": "execute_result"
    }
   ],
   "source": [
    "news"
   ]
  },
  {
   "cell_type": "code",
   "execution_count": 37,
   "id": "699807da",
   "metadata": {
    "ExecuteTime": {
     "end_time": "2021-08-31T09:57:50.303287Z",
     "start_time": "2021-08-31T09:57:50.247523Z"
    },
    "scrolled": false
   },
   "outputs": [
    {
     "data": {
      "text/plain": [
       "'[뉴스픽] ‘SAY 굿바이’·‘돌봄 로봇’'"
      ]
     },
     "execution_count": 37,
     "metadata": {},
     "output_type": "execute_result"
    }
   ],
   "source": [
    "#section_body > ul.type06_headline > li:nth-child(1) > dl > dt:nth-child(2) > a 에서 수정\n",
    "news[0].find_element_by_css_selector('#section_body li > dl > dt:nth-child(2) > a').text"
   ]
  },
  {
   "cell_type": "code",
   "execution_count": 26,
   "id": "2a467d05",
   "metadata": {
    "ExecuteTime": {
     "end_time": "2021-08-31T09:57:50.812297Z",
     "start_time": "2021-08-31T09:57:50.306531Z"
    }
   },
   "outputs": [
    {
     "data": {
      "text/plain": [
       "['[뉴스픽] ‘SAY 굿바이’·‘돌봄 로봇’',\n",
       " '“수수료만 8000원? 남는게 없어요”…‘배민1’에 뿔난 사장님들',\n",
       " '싸이월드·포켓몬빵·Y2K패션… ‘판’ 커지는 그때 그 시절',\n",
       " '유류세 30% 덜 받는다...휘발유 최대 83원 인하 효과',\n",
       " '中 베이징 집단감염에 발칵…한인타운 아파트·오피스 폐쇄',\n",
       " \"SK, '실트론 사건' 공정위 의결서 송달받아…불복소송 제기할 듯\",\n",
       " '[뉴스추적] 얼마나 심각한가…인플레 공포에 속수무책',\n",
       " '[국가부채 2000조 돌파] 적자 늪에 빠진 공무원·군인연금, 앞으로 나갈 돈만 1140조원 육박',\n",
       " '[기획] 尹정부 3대 경제 딜레마',\n",
       " '물가 ‘들썩’…가계·음식점 ‘주름살’',\n",
       " '신세계 `공세`에 롯데는 `실리`',\n",
       " '[여기는 진주] 엎친 데 덮친 격?…중국산 저가 건조 양파 수입에 반발',\n",
       " '페달 하나로 가속·감속… 150km 달리고도 배터리 100km만 소모',\n",
       " '文정부 5년 세종 전셋값 상승률 전국 최고',\n",
       " '‘짜장면값 들썩’…외식 물가 24년 만에 최고 폭등',\n",
       " '한도 채워 유류세 30% 인하…현장선 “생색내기” 불만',\n",
       " '사용후핵연료 포화·원전 재가동…‘원전 없는 도시’ 물거품 되나',\n",
       " '‘깡통 전세’ 사기, 예방법은?',\n",
       " '경유 37%·소주 17%·치킨 11%… 자고 나면 또 오르는 소비자물가',\n",
       " '바지 사장 내세워 ‘깡통 전세’ 의혹…수사']"
      ]
     },
     "execution_count": 26,
     "metadata": {},
     "output_type": "execute_result"
    }
   ],
   "source": [
    "news_list = []\n",
    "\n",
    "for article in news:\n",
    "    try: \n",
    "        title = article.find_element_by_css_selector('#section_body li > dl > dt:nth-child(2) > a').text\n",
    "        news_list.append(title)\n",
    "    except:\n",
    "        continue \n",
    "news_list"
   ]
  },
  {
   "cell_type": "code",
   "execution_count": 38,
   "id": "f90987f5",
   "metadata": {
    "ExecuteTime": {
     "end_time": "2021-08-31T09:57:50.827835Z",
     "start_time": "2021-08-31T09:57:50.815196Z"
    }
   },
   "outputs": [
    {
     "data": {
      "text/plain": [
       "20"
      ]
     },
     "execution_count": 38,
     "metadata": {},
     "output_type": "execute_result"
    }
   ],
   "source": [
    "len(news_list)"
   ]
  },
  {
   "cell_type": "code",
   "execution_count": 39,
   "id": "59a58cc2",
   "metadata": {
    "ExecuteTime": {
     "end_time": "2021-08-31T09:57:53.166490Z",
     "start_time": "2021-08-31T09:57:50.831342Z"
    }
   },
   "outputs": [],
   "source": [
    "#드라이버 종료!\n",
    "driver.quit() "
   ]
  },
  {
   "cell_type": "code",
   "execution_count": null,
   "id": "1e017517",
   "metadata": {},
   "outputs": [],
   "source": []
  }
 ],
 "metadata": {
  "hide_input": false,
  "kernelspec": {
   "display_name": "Python 3 (ipykernel)",
   "language": "python",
   "name": "python3"
  },
  "language_info": {
   "codemirror_mode": {
    "name": "ipython",
    "version": 3
   },
   "file_extension": ".py",
   "mimetype": "text/x-python",
   "name": "python",
   "nbconvert_exporter": "python",
   "pygments_lexer": "ipython3",
   "version": "3.9.7"
  },
  "toc": {
   "base_numbering": 1,
   "nav_menu": {},
   "number_sections": true,
   "sideBar": true,
   "skip_h1_title": false,
   "title_cell": "Table of Contents",
   "title_sidebar": "Contents",
   "toc_cell": false,
   "toc_position": {},
   "toc_section_display": true,
   "toc_window_display": false
  },
  "varInspector": {
   "cols": {
    "lenName": 16,
    "lenType": 16,
    "lenVar": 40
   },
   "kernels_config": {
    "python": {
     "delete_cmd_postfix": "",
     "delete_cmd_prefix": "del ",
     "library": "var_list.py",
     "varRefreshCmd": "print(var_dic_list())"
    },
    "r": {
     "delete_cmd_postfix": ") ",
     "delete_cmd_prefix": "rm(",
     "library": "var_list.r",
     "varRefreshCmd": "cat(var_dic_list()) "
    }
   },
   "types_to_exclude": [
    "module",
    "function",
    "builtin_function_or_method",
    "instance",
    "_Feature"
   ],
   "window_display": false
  }
 },
 "nbformat": 4,
 "nbformat_minor": 5
}
