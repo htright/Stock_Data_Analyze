{
 "cells": [
  {
   "cell_type": "markdown",
   "id": "f20194cd",
   "metadata": {},
   "source": [
    "## 기초통계량"
   ]
  },
  {
   "cell_type": "code",
   "execution_count": 1,
   "id": "2f80fa75",
   "metadata": {
    "ExecuteTime": {
     "end_time": "2021-08-31T09:58:26.753879Z",
     "start_time": "2021-08-31T09:58:26.469766Z"
    }
   },
   "outputs": [
    {
     "data": {
      "text/html": [
       "<div>\n",
       "<style scoped>\n",
       "    .dataframe tbody tr th:only-of-type {\n",
       "        vertical-align: middle;\n",
       "    }\n",
       "\n",
       "    .dataframe tbody tr th {\n",
       "        vertical-align: top;\n",
       "    }\n",
       "\n",
       "    .dataframe thead th {\n",
       "        text-align: right;\n",
       "    }\n",
       "</style>\n",
       "<table border=\"1\" class=\"dataframe\">\n",
       "  <thead>\n",
       "    <tr style=\"text-align: right;\">\n",
       "      <th></th>\n",
       "      <th>Open</th>\n",
       "      <th>High</th>\n",
       "      <th>Low</th>\n",
       "      <th>Close</th>\n",
       "      <th>Volume</th>\n",
       "      <th>Change</th>\n",
       "    </tr>\n",
       "    <tr>\n",
       "      <th>Date</th>\n",
       "      <th></th>\n",
       "      <th></th>\n",
       "      <th></th>\n",
       "      <th></th>\n",
       "      <th></th>\n",
       "      <th></th>\n",
       "    </tr>\n",
       "  </thead>\n",
       "  <tbody>\n",
       "    <tr>\n",
       "      <th>2002-10-29</th>\n",
       "      <td>2312</td>\n",
       "      <td>2312</td>\n",
       "      <td>2312</td>\n",
       "      <td>2312</td>\n",
       "      <td>20549</td>\n",
       "      <td>NaN</td>\n",
       "    </tr>\n",
       "    <tr>\n",
       "      <th>2002-10-30</th>\n",
       "      <td>2587</td>\n",
       "      <td>2587</td>\n",
       "      <td>2558</td>\n",
       "      <td>2588</td>\n",
       "      <td>853638</td>\n",
       "      <td>0.119377</td>\n",
       "    </tr>\n",
       "    <tr>\n",
       "      <th>2002-10-31</th>\n",
       "      <td>2626</td>\n",
       "      <td>2689</td>\n",
       "      <td>2398</td>\n",
       "      <td>2459</td>\n",
       "      <td>1320880</td>\n",
       "      <td>-0.049845</td>\n",
       "    </tr>\n",
       "    <tr>\n",
       "      <th>2002-11-01</th>\n",
       "      <td>2520</td>\n",
       "      <td>2599</td>\n",
       "      <td>2215</td>\n",
       "      <td>2305</td>\n",
       "      <td>750761</td>\n",
       "      <td>-0.062627</td>\n",
       "    </tr>\n",
       "    <tr>\n",
       "      <th>2002-11-04</th>\n",
       "      <td>2285</td>\n",
       "      <td>2300</td>\n",
       "      <td>2135</td>\n",
       "      <td>2191</td>\n",
       "      <td>692165</td>\n",
       "      <td>-0.049458</td>\n",
       "    </tr>\n",
       "    <tr>\n",
       "      <th>...</th>\n",
       "      <td>...</td>\n",
       "      <td>...</td>\n",
       "      <td>...</td>\n",
       "      <td>...</td>\n",
       "      <td>...</td>\n",
       "      <td>...</td>\n",
       "    </tr>\n",
       "    <tr>\n",
       "      <th>2022-04-01</th>\n",
       "      <td>340000</td>\n",
       "      <td>340500</td>\n",
       "      <td>335500</td>\n",
       "      <td>335500</td>\n",
       "      <td>446987</td>\n",
       "      <td>-0.014684</td>\n",
       "    </tr>\n",
       "    <tr>\n",
       "      <th>2022-04-04</th>\n",
       "      <td>335500</td>\n",
       "      <td>339000</td>\n",
       "      <td>332000</td>\n",
       "      <td>338000</td>\n",
       "      <td>283687</td>\n",
       "      <td>0.007452</td>\n",
       "    </tr>\n",
       "    <tr>\n",
       "      <th>2022-04-05</th>\n",
       "      <td>340500</td>\n",
       "      <td>343000</td>\n",
       "      <td>338000</td>\n",
       "      <td>342500</td>\n",
       "      <td>389951</td>\n",
       "      <td>0.013314</td>\n",
       "    </tr>\n",
       "    <tr>\n",
       "      <th>2022-04-06</th>\n",
       "      <td>336500</td>\n",
       "      <td>338000</td>\n",
       "      <td>329000</td>\n",
       "      <td>330000</td>\n",
       "      <td>647201</td>\n",
       "      <td>-0.036496</td>\n",
       "    </tr>\n",
       "    <tr>\n",
       "      <th>2022-04-07</th>\n",
       "      <td>323000</td>\n",
       "      <td>328500</td>\n",
       "      <td>321000</td>\n",
       "      <td>321000</td>\n",
       "      <td>491219</td>\n",
       "      <td>-0.027273</td>\n",
       "    </tr>\n",
       "  </tbody>\n",
       "</table>\n",
       "<p>4808 rows × 6 columns</p>\n",
       "</div>"
      ],
      "text/plain": [
       "              Open    High     Low   Close   Volume    Change\n",
       "Date                                                         \n",
       "2002-10-29    2312    2312    2312    2312    20549       NaN\n",
       "2002-10-30    2587    2587    2558    2588   853638  0.119377\n",
       "2002-10-31    2626    2689    2398    2459  1320880 -0.049845\n",
       "2002-11-01    2520    2599    2215    2305   750761 -0.062627\n",
       "2002-11-04    2285    2300    2135    2191   692165 -0.049458\n",
       "...            ...     ...     ...     ...      ...       ...\n",
       "2022-04-01  340000  340500  335500  335500   446987 -0.014684\n",
       "2022-04-04  335500  339000  332000  338000   283687  0.007452\n",
       "2022-04-05  340500  343000  338000  342500   389951  0.013314\n",
       "2022-04-06  336500  338000  329000  330000   647201 -0.036496\n",
       "2022-04-07  323000  328500  321000  321000   491219 -0.027273\n",
       "\n",
       "[4808 rows x 6 columns]"
      ]
     },
     "execution_count": 1,
     "metadata": {},
     "output_type": "execute_result"
    }
   ],
   "source": [
    "import json\n",
    "#key:종목 / value:symbol인 딕셔너리 가져오기\n",
    "stock2code = json.load(open('data/stock2code.json','r'))\n",
    "\n",
    "naver = stock2code['NAVER']\n",
    "\n",
    "import FinanceDataReader as fdr\n",
    "data = fdr.DataReader(naver)\n",
    "data"
   ]
  },
  {
   "cell_type": "code",
   "execution_count": 2,
   "id": "4d818720",
   "metadata": {
    "ExecuteTime": {
     "end_time": "2021-08-31T09:58:26.798731Z",
     "start_time": "2021-08-31T09:58:26.757105Z"
    }
   },
   "outputs": [
    {
     "data": {
      "text/html": [
       "<div>\n",
       "<style scoped>\n",
       "    .dataframe tbody tr th:only-of-type {\n",
       "        vertical-align: middle;\n",
       "    }\n",
       "\n",
       "    .dataframe tbody tr th {\n",
       "        vertical-align: top;\n",
       "    }\n",
       "\n",
       "    .dataframe thead th {\n",
       "        text-align: right;\n",
       "    }\n",
       "</style>\n",
       "<table border=\"1\" class=\"dataframe\">\n",
       "  <thead>\n",
       "    <tr style=\"text-align: right;\">\n",
       "      <th></th>\n",
       "      <th>Open</th>\n",
       "      <th>High</th>\n",
       "      <th>Low</th>\n",
       "      <th>Close</th>\n",
       "      <th>Volume</th>\n",
       "      <th>Change</th>\n",
       "    </tr>\n",
       "  </thead>\n",
       "  <tbody>\n",
       "    <tr>\n",
       "      <th>count</th>\n",
       "      <td>4808.000000</td>\n",
       "      <td>4808.000000</td>\n",
       "      <td>4808.000000</td>\n",
       "      <td>4808.000000</td>\n",
       "      <td>4.808000e+03</td>\n",
       "      <td>4807.000000</td>\n",
       "    </tr>\n",
       "    <tr>\n",
       "      <th>mean</th>\n",
       "      <td>108344.687188</td>\n",
       "      <td>109936.254160</td>\n",
       "      <td>106682.574043</td>\n",
       "      <td>108767.249376</td>\n",
       "      <td>2.979681e+05</td>\n",
       "      <td>0.001390</td>\n",
       "    </tr>\n",
       "    <tr>\n",
       "      <th>std</th>\n",
       "      <td>95938.748918</td>\n",
       "      <td>97137.453774</td>\n",
       "      <td>94653.722430</td>\n",
       "      <td>95538.865542</td>\n",
       "      <td>3.015586e+05</td>\n",
       "      <td>0.027071</td>\n",
       "    </tr>\n",
       "    <tr>\n",
       "      <th>min</th>\n",
       "      <td>0.000000</td>\n",
       "      <td>0.000000</td>\n",
       "      <td>0.000000</td>\n",
       "      <td>1923.000000</td>\n",
       "      <td>0.000000e+00</td>\n",
       "      <td>-0.139536</td>\n",
       "    </tr>\n",
       "    <tr>\n",
       "      <th>25%</th>\n",
       "      <td>42533.000000</td>\n",
       "      <td>43435.250000</td>\n",
       "      <td>41654.000000</td>\n",
       "      <td>43655.250000</td>\n",
       "      <td>1.187672e+05</td>\n",
       "      <td>-0.014155</td>\n",
       "    </tr>\n",
       "    <tr>\n",
       "      <th>50%</th>\n",
       "      <td>78003.000000</td>\n",
       "      <td>79322.500000</td>\n",
       "      <td>76121.000000</td>\n",
       "      <td>78632.500000</td>\n",
       "      <td>2.021370e+05</td>\n",
       "      <td>0.000000</td>\n",
       "    </tr>\n",
       "    <tr>\n",
       "      <th>75%</th>\n",
       "      <td>151014.000000</td>\n",
       "      <td>153215.250000</td>\n",
       "      <td>149210.000000</td>\n",
       "      <td>150859.750000</td>\n",
       "      <td>3.653070e+05</td>\n",
       "      <td>0.014775</td>\n",
       "    </tr>\n",
       "    <tr>\n",
       "      <th>max</th>\n",
       "      <td>460000.000000</td>\n",
       "      <td>465000.000000</td>\n",
       "      <td>452000.000000</td>\n",
       "      <td>454000.000000</td>\n",
       "      <td>5.304519e+06</td>\n",
       "      <td>0.145978</td>\n",
       "    </tr>\n",
       "  </tbody>\n",
       "</table>\n",
       "</div>"
      ],
      "text/plain": [
       "                Open           High            Low          Close  \\\n",
       "count    4808.000000    4808.000000    4808.000000    4808.000000   \n",
       "mean   108344.687188  109936.254160  106682.574043  108767.249376   \n",
       "std     95938.748918   97137.453774   94653.722430   95538.865542   \n",
       "min         0.000000       0.000000       0.000000    1923.000000   \n",
       "25%     42533.000000   43435.250000   41654.000000   43655.250000   \n",
       "50%     78003.000000   79322.500000   76121.000000   78632.500000   \n",
       "75%    151014.000000  153215.250000  149210.000000  150859.750000   \n",
       "max    460000.000000  465000.000000  452000.000000  454000.000000   \n",
       "\n",
       "             Volume       Change  \n",
       "count  4.808000e+03  4807.000000  \n",
       "mean   2.979681e+05     0.001390  \n",
       "std    3.015586e+05     0.027071  \n",
       "min    0.000000e+00    -0.139536  \n",
       "25%    1.187672e+05    -0.014155  \n",
       "50%    2.021370e+05     0.000000  \n",
       "75%    3.653070e+05     0.014775  \n",
       "max    5.304519e+06     0.145978  "
      ]
     },
     "execution_count": 2,
     "metadata": {},
     "output_type": "execute_result"
    }
   ],
   "source": [
    "#data의 간단한 통계정보 확인\n",
    "data.describe()"
   ]
  },
  {
   "cell_type": "code",
   "execution_count": 3,
   "id": "17a1a569",
   "metadata": {
    "ExecuteTime": {
     "end_time": "2021-08-31T09:58:26.843611Z",
     "start_time": "2021-08-31T09:58:26.800726Z"
    }
   },
   "outputs": [
    {
     "name": "stdout",
     "output_type": "stream",
     "text": [
      "****MEDIAN****\n",
      "Open       78003.0\n",
      "High       79322.5\n",
      "Low        76121.0\n",
      "Close      78632.5\n",
      "Volume    202137.0\n",
      "Change         0.0\n",
      "dtype: float64\n",
      "\n",
      "****산술평균****\n",
      "Open      108344.687188\n",
      "High      109936.254160\n",
      "Low       106682.574043\n",
      "Close     108767.249376\n",
      "Volume    297968.120424\n",
      "Change         0.001390\n",
      "dtype: float64\n",
      "\n",
      "****산술평균(axis=1)****\n",
      "Date\n",
      "2002-10-29      2312.00\n",
      "2002-10-30      2580.00\n",
      "2002-10-31      2543.00\n",
      "2002-11-01      2409.75\n",
      "2002-11-04      2227.75\n",
      "                ...    \n",
      "2022-04-01    337875.00\n",
      "2022-04-04    336125.00\n",
      "2022-04-05    341000.00\n",
      "2022-04-06    333375.00\n",
      "2022-04-07    323375.00\n",
      "Length: 4808, dtype: float64\n",
      "\n",
      "****최빈값****\n",
      "   Open  High  Low  Close  Volume  Change\n",
      "0     0     0    0  92130       0     0.0\n",
      "\n",
      "****분산****\n",
      "Open      9.204244e+09\n",
      "High      9.435685e+09\n",
      "Low       8.959327e+09\n",
      "Close     9.127675e+09\n",
      "Volume    9.093760e+10\n",
      "Change    7.328606e-04\n",
      "dtype: float64\n",
      "\n",
      "****표준편차****\n",
      "Open       95938.748918\n",
      "High       97137.453774\n",
      "Low        94653.722430\n",
      "Close      95538.865542\n",
      "Volume    301558.617014\n",
      "Change         0.027071\n",
      "dtype: float64\n",
      "\n",
      "****왜도****\n",
      "Open      1.522535\n",
      "High      1.520605\n",
      "Low       1.523960\n",
      "Close     1.526657\n",
      "Volume    3.732156\n",
      "Change    0.454215\n",
      "dtype: float64\n",
      "\n",
      "****첨도****\n",
      "Open       2.228819\n",
      "High       2.221298\n",
      "Low        2.232818\n",
      "Close      2.246310\n",
      "Volume    28.705599\n",
      "Change     2.646570\n",
      "dtype: float64\n"
     ]
    }
   ],
   "source": [
    "print(\"****MEDIAN****\")\n",
    "print(data.median())\n",
    "print()\n",
    "\n",
    "print(\"****산술평균****\")\n",
    "print(data.mean())\n",
    "print()\n",
    "print(\"****산술평균(axis=1)****\")\n",
    "print(data[['Open','High','Low','Close']].mean(axis=1))\n",
    "print()\n",
    "print(\"****최빈값****\")\n",
    "print(data.mode())\n",
    "print()\n",
    "print(\"****분산****\")\n",
    "print(data.var())\n",
    "print()\n",
    "print(\"****표준편차****\")\n",
    "print(data.std())\n",
    "print()\n",
    "print(\"****왜도****\")\n",
    "print(data.skew())\n",
    "print()\n",
    "print(\"****첨도****\")\n",
    "print(data.kurtosis())"
   ]
  },
  {
   "cell_type": "markdown",
   "id": "bf423642",
   "metadata": {},
   "source": [
    "### 기하평균"
   ]
  },
  {
   "cell_type": "code",
   "execution_count": 9,
   "id": "939f7d7c",
   "metadata": {
    "ExecuteTime": {
     "end_time": "2021-08-31T09:58:26.858572Z",
     "start_time": "2021-08-31T09:58:26.846604Z"
    }
   },
   "outputs": [
    {
     "data": {
      "text/plain": [
       "-0.009759938636980953"
      ]
     },
     "execution_count": 9,
     "metadata": {},
     "output_type": "execute_result"
    }
   ],
   "source": [
    "#산술평균\n",
    "data.Change.loc['2022-01-01':'2022-01-31'].mean()"
   ]
  },
  {
   "cell_type": "code",
   "execution_count": 10,
   "id": "fa790b50",
   "metadata": {
    "ExecuteTime": {
     "end_time": "2021-08-31T09:58:26.873532Z",
     "start_time": "2021-08-31T09:58:26.860567Z"
    }
   },
   "outputs": [
    {
     "data": {
      "text/plain": [
       "20"
      ]
     },
     "execution_count": 10,
     "metadata": {},
     "output_type": "execute_result"
    }
   ],
   "source": [
    "len(data.Change.loc['2022-01-01':'2022-01-31'])"
   ]
  },
  {
   "cell_type": "code",
   "execution_count": 11,
   "id": "85a08611",
   "metadata": {
    "ExecuteTime": {
     "end_time": "2021-08-31T09:58:26.888518Z",
     "start_time": "2021-08-31T09:58:26.875527Z"
    }
   },
   "outputs": [
    {
     "data": {
      "text/plain": [
       "-0.009033666087845504"
      ]
     },
     "execution_count": 11,
     "metadata": {},
     "output_type": "execute_result"
    }
   ],
   "source": [
    "#기하평균\n",
    "((data.Change.loc['2022-01-01':'2022-01-31'] + 1).prod()) ** (1/22)  - 1"
   ]
  },
  {
   "cell_type": "code",
   "execution_count": 12,
   "id": "71b86241",
   "metadata": {
    "ExecuteTime": {
     "end_time": "2021-08-31T09:58:26.903510Z",
     "start_time": "2021-08-31T09:58:26.892483Z"
    }
   },
   "outputs": [],
   "source": [
    "def geo_mean(x):\n",
    "    return (x +1).prod() ** (1/len(x)) - 1"
   ]
  },
  {
   "cell_type": "code",
   "execution_count": 13,
   "id": "1dcd7f8c",
   "metadata": {
    "ExecuteTime": {
     "end_time": "2021-08-31T09:58:26.918411Z",
     "start_time": "2021-08-31T09:58:26.907443Z"
    }
   },
   "outputs": [
    {
     "name": "stdout",
     "output_type": "stream",
     "text": [
      "기하평균 0.0010265931779946946\n",
      "산술평균 0.0013903297755540301\n"
     ]
    }
   ],
   "source": [
    "print(\"기하평균\", geo_mean(data.Change))\n",
    "print(\"산술평균\", data.Change.mean())"
   ]
  },
  {
   "cell_type": "markdown",
   "id": "254a2eff",
   "metadata": {},
   "source": [
    "## 이동평균"
   ]
  },
  {
   "cell_type": "markdown",
   "id": "fc4dcfdb",
   "metadata": {},
   "source": [
    "### 단순이동평균과 지수이동평균"
   ]
  },
  {
   "cell_type": "code",
   "execution_count": 15,
   "id": "8c634727",
   "metadata": {},
   "outputs": [],
   "source": [
    "import matplotlib.pyplot as plt"
   ]
  },
  {
   "cell_type": "code",
   "execution_count": 17,
   "id": "5d4dd7cb",
   "metadata": {},
   "outputs": [
    {
     "data": {
      "text/plain": [
       "<AxesSubplot:xlabel='Date'>"
      ]
     },
     "execution_count": 17,
     "metadata": {},
     "output_type": "execute_result"
    },
    {
     "data": {
      "image/png": "[encoded data removed]",
      "text/plain": [
       "<Figure size 432x288 with 1 Axes>"
      ]
     },
     "metadata": {
      "needs_background": "light"
     },
     "output_type": "display_data"
    }
   ],
   "source": [
    "data.Close['2022-02-01':].plot(label='close')"
   ]
  },
  {
   "cell_type": "code",
   "execution_count": 18,
   "id": "62a56fc6",
   "metadata": {
    "scrolled": true
   },
   "outputs": [
    {
     "data": {
      "text/plain": [
       "<AxesSubplot:xlabel='Date'>"
      ]
     },
     "execution_count": 18,
     "metadata": {},
     "output_type": "execute_result"
    },
    {
     "data": {
      "image/png": "[encoded data removed]",
      "text/plain": [
       "<Figure size 432x288 with 1 Axes>"
      ]
     },
     "metadata": {
      "needs_background": "light"
     },
     "output_type": "display_data"
    }
   ],
   "source": [
    "data.Close.rolling(12).mean().loc['2022-02-01':].plot(label='sma12')"
   ]
  },
  {
   "cell_type": "code",
   "execution_count": 19,
   "id": "44693ff4",
   "metadata": {},
   "outputs": [
    {
     "data": {
      "text/plain": [
       "<AxesSubplot:xlabel='Date'>"
      ]
     },
     "execution_count": 19,
     "metadata": {},
     "output_type": "execute_result"
    },
    {
     "data": {
      "image/png": "[encoded data removed]",
      "text/plain": [
       "<Figure size 432x288 with 1 Axes>"
      ]
     },
     "metadata": {
      "needs_background": "light"
     },
     "output_type": "display_data"
    }
   ],
   "source": [
    "data.Close.ewm(12).mean().loc['2022-02-01':].plot(label='ema12')"
   ]
  },
  {
   "cell_type": "code",
   "execution_count": 16,
   "id": "7ebe85c2",
   "metadata": {
    "ExecuteTime": {
     "end_time": "2021-08-31T09:58:27.490249Z",
     "start_time": "2021-08-31T09:58:26.921405Z"
    }
   },
   "outputs": [
    {
     "data": {
      "image/png": "[encoded data removed]",
      "text/plain": [
       "<Figure size 432x288 with 1 Axes>"
      ]
     },
     "metadata": {
      "needs_background": "light"
     },
     "output_type": "display_data"
    }
   ],
   "source": [
    "data.Close['2022-02-01':].plot(label='close')\n",
    "data.Close.rolling(12).mean().loc['2022-02-01':].plot(label='sma12') # 12영업일 기준으로  단순이동평균\n",
    "data.Close.ewm(12).mean().loc['2022-02-01':].plot(label='ema12') # 12영업일 기준으로  지수이동평균 - 최근 데이터에 더 민감하게 반영\n",
    "plt.legend()\n",
    "plt.show()"
   ]
  },
  {
   "cell_type": "markdown",
   "id": "2f1f83d7",
   "metadata": {},
   "source": [
    "## 상관"
   ]
  },
  {
   "cell_type": "markdown",
   "id": "3acdab3e",
   "metadata": {},
   "source": [
    "- 공분산\n",
    "- 상관계수"
   ]
  },
  {
   "cell_type": "code",
   "execution_count": 21,
   "id": "60aaf339",
   "metadata": {},
   "outputs": [],
   "source": [
    "import pandas as pd"
   ]
  },
  {
   "cell_type": "code",
   "execution_count": 28,
   "id": "3e13c149",
   "metadata": {},
   "outputs": [
    {
     "data": {
      "text/html": [
       "<div>\n",
       "<style scoped>\n",
       "    .dataframe tbody tr th:only-of-type {\n",
       "        vertical-align: middle;\n",
       "    }\n",
       "\n",
       "    .dataframe tbody tr th {\n",
       "        vertical-align: top;\n",
       "    }\n",
       "\n",
       "    .dataframe thead th {\n",
       "        text-align: right;\n",
       "    }\n",
       "</style>\n",
       "<table border=\"1\" class=\"dataframe\">\n",
       "  <thead>\n",
       "    <tr style=\"text-align: right;\">\n",
       "      <th></th>\n",
       "      <th>Close</th>\n",
       "      <th>Close</th>\n",
       "    </tr>\n",
       "    <tr>\n",
       "      <th>Date</th>\n",
       "      <th></th>\n",
       "      <th></th>\n",
       "    </tr>\n",
       "  </thead>\n",
       "  <tbody>\n",
       "    <tr>\n",
       "      <th>2014-11-14</th>\n",
       "      <td>327500.0</td>\n",
       "      <td>62391</td>\n",
       "    </tr>\n",
       "    <tr>\n",
       "      <th>2014-11-17</th>\n",
       "      <td>338500.0</td>\n",
       "      <td>60077</td>\n",
       "    </tr>\n",
       "    <tr>\n",
       "      <th>2014-11-18</th>\n",
       "      <td>366000.0</td>\n",
       "      <td>60925</td>\n",
       "    </tr>\n",
       "    <tr>\n",
       "      <th>2014-11-19</th>\n",
       "      <td>371000.0</td>\n",
       "      <td>64319</td>\n",
       "    </tr>\n",
       "    <tr>\n",
       "      <th>2014-11-20</th>\n",
       "      <td>398000.0</td>\n",
       "      <td>62159</td>\n",
       "    </tr>\n",
       "    <tr>\n",
       "      <th>...</th>\n",
       "      <td>...</td>\n",
       "      <td>...</td>\n",
       "    </tr>\n",
       "    <tr>\n",
       "      <th>2022-04-01</th>\n",
       "      <td>139500.0</td>\n",
       "      <td>25600</td>\n",
       "    </tr>\n",
       "    <tr>\n",
       "      <th>2022-04-04</th>\n",
       "      <td>139000.0</td>\n",
       "      <td>26000</td>\n",
       "    </tr>\n",
       "    <tr>\n",
       "      <th>2022-04-05</th>\n",
       "      <td>140000.0</td>\n",
       "      <td>26250</td>\n",
       "    </tr>\n",
       "    <tr>\n",
       "      <th>2022-04-06</th>\n",
       "      <td>139000.0</td>\n",
       "      <td>25550</td>\n",
       "    </tr>\n",
       "    <tr>\n",
       "      <th>2022-04-07</th>\n",
       "      <td>136500.0</td>\n",
       "      <td>25600</td>\n",
       "    </tr>\n",
       "  </tbody>\n",
       "</table>\n",
       "<p>1819 rows × 2 columns</p>\n",
       "</div>"
      ],
      "text/plain": [
       "               Close  Close\n",
       "Date                       \n",
       "2014-11-14  327500.0  62391\n",
       "2014-11-17  338500.0  60077\n",
       "2014-11-18  366000.0  60925\n",
       "2014-11-19  371000.0  64319\n",
       "2014-11-20  398000.0  62159\n",
       "...              ...    ...\n",
       "2022-04-01  139500.0  25600\n",
       "2022-04-04  139000.0  26000\n",
       "2022-04-05  140000.0  26250\n",
       "2022-04-06  139000.0  25550\n",
       "2022-04-07  136500.0  25600\n",
       "\n",
       "[1819 rows x 2 columns]"
      ]
     },
     "execution_count": 28,
     "metadata": {},
     "output_type": "execute_result"
    }
   ],
   "source": [
    "df1 = fdr.DataReader(stock2code['삼성에스디에스']).Close\n",
    "df2 = fdr.DataReader(stock2code['코나아이']).Close\n",
    "df = pd.concat([df1, df2], axis=1).dropna()\n",
    "df"
   ]
  },
  {
   "cell_type": "code",
   "execution_count": 29,
   "id": "cabf2ee0",
   "metadata": {
    "ExecuteTime": {
     "end_time": "2021-08-31T09:58:27.760441Z",
     "start_time": "2021-08-31T09:58:27.491894Z"
    }
   },
   "outputs": [
    {
     "data": {
      "text/html": [
       "<div>\n",
       "<style scoped>\n",
       "    .dataframe tbody tr th:only-of-type {\n",
       "        vertical-align: middle;\n",
       "    }\n",
       "\n",
       "    .dataframe tbody tr th {\n",
       "        vertical-align: top;\n",
       "    }\n",
       "\n",
       "    .dataframe thead th {\n",
       "        text-align: right;\n",
       "    }\n",
       "</style>\n",
       "<table border=\"1\" class=\"dataframe\">\n",
       "  <thead>\n",
       "    <tr style=\"text-align: right;\">\n",
       "      <th></th>\n",
       "      <th>ssSDS</th>\n",
       "      <th>Kona</th>\n",
       "    </tr>\n",
       "    <tr>\n",
       "      <th>Date</th>\n",
       "      <th></th>\n",
       "      <th></th>\n",
       "    </tr>\n",
       "  </thead>\n",
       "  <tbody>\n",
       "    <tr>\n",
       "      <th>2014-11-14</th>\n",
       "      <td>327500.0</td>\n",
       "      <td>62391</td>\n",
       "    </tr>\n",
       "    <tr>\n",
       "      <th>2014-11-17</th>\n",
       "      <td>338500.0</td>\n",
       "      <td>60077</td>\n",
       "    </tr>\n",
       "    <tr>\n",
       "      <th>2014-11-18</th>\n",
       "      <td>366000.0</td>\n",
       "      <td>60925</td>\n",
       "    </tr>\n",
       "    <tr>\n",
       "      <th>2014-11-19</th>\n",
       "      <td>371000.0</td>\n",
       "      <td>64319</td>\n",
       "    </tr>\n",
       "    <tr>\n",
       "      <th>2014-11-20</th>\n",
       "      <td>398000.0</td>\n",
       "      <td>62159</td>\n",
       "    </tr>\n",
       "    <tr>\n",
       "      <th>...</th>\n",
       "      <td>...</td>\n",
       "      <td>...</td>\n",
       "    </tr>\n",
       "    <tr>\n",
       "      <th>2022-04-01</th>\n",
       "      <td>139500.0</td>\n",
       "      <td>25600</td>\n",
       "    </tr>\n",
       "    <tr>\n",
       "      <th>2022-04-04</th>\n",
       "      <td>139000.0</td>\n",
       "      <td>26000</td>\n",
       "    </tr>\n",
       "    <tr>\n",
       "      <th>2022-04-05</th>\n",
       "      <td>140000.0</td>\n",
       "      <td>26250</td>\n",
       "    </tr>\n",
       "    <tr>\n",
       "      <th>2022-04-06</th>\n",
       "      <td>139000.0</td>\n",
       "      <td>25550</td>\n",
       "    </tr>\n",
       "    <tr>\n",
       "      <th>2022-04-07</th>\n",
       "      <td>136500.0</td>\n",
       "      <td>25600</td>\n",
       "    </tr>\n",
       "  </tbody>\n",
       "</table>\n",
       "<p>1819 rows × 2 columns</p>\n",
       "</div>"
      ],
      "text/plain": [
       "               ssSDS   Kona\n",
       "Date                       \n",
       "2014-11-14  327500.0  62391\n",
       "2014-11-17  338500.0  60077\n",
       "2014-11-18  366000.0  60925\n",
       "2014-11-19  371000.0  64319\n",
       "2014-11-20  398000.0  62159\n",
       "...              ...    ...\n",
       "2022-04-01  139500.0  25600\n",
       "2022-04-04  139000.0  26000\n",
       "2022-04-05  140000.0  26250\n",
       "2022-04-06  139000.0  25550\n",
       "2022-04-07  136500.0  25600\n",
       "\n",
       "[1819 rows x 2 columns]"
      ]
     },
     "execution_count": 29,
     "metadata": {},
     "output_type": "execute_result"
    }
   ],
   "source": [
    "df1 = fdr.DataReader(stock2code['삼성에스디에스']).Close\n",
    "df2 = fdr.DataReader(stock2code['코나아이']).Close\n",
    "df = pd.concat([df1, df2], axis=1).dropna()\n",
    "df.columns = ['ssSDS','Kona']\n",
    "df"
   ]
  },
  {
   "cell_type": "code",
   "execution_count": 30,
   "id": "5454b869",
   "metadata": {
    "scrolled": true
   },
   "outputs": [
    {
     "data": {
      "text/html": [
       "<div>\n",
       "<style scoped>\n",
       "    .dataframe tbody tr th:only-of-type {\n",
       "        vertical-align: middle;\n",
       "    }\n",
       "\n",
       "    .dataframe tbody tr th {\n",
       "        vertical-align: top;\n",
       "    }\n",
       "\n",
       "    .dataframe thead th {\n",
       "        text-align: right;\n",
       "    }\n",
       "</style>\n",
       "<table border=\"1\" class=\"dataframe\">\n",
       "  <thead>\n",
       "    <tr style=\"text-align: right;\">\n",
       "      <th></th>\n",
       "      <th>ssSDS</th>\n",
       "      <th>Kona</th>\n",
       "    </tr>\n",
       "  </thead>\n",
       "  <tbody>\n",
       "    <tr>\n",
       "      <th>ssSDS</th>\n",
       "      <td>2.056236e+09</td>\n",
       "      <td>5.240205e+08</td>\n",
       "    </tr>\n",
       "    <tr>\n",
       "      <th>Kona</th>\n",
       "      <td>5.240205e+08</td>\n",
       "      <td>2.903498e+08</td>\n",
       "    </tr>\n",
       "  </tbody>\n",
       "</table>\n",
       "</div>"
      ],
      "text/plain": [
       "              ssSDS          Kona\n",
       "ssSDS  2.056236e+09  5.240205e+08\n",
       "Kona   5.240205e+08  2.903498e+08"
      ]
     },
     "execution_count": 30,
     "metadata": {},
     "output_type": "execute_result"
    }
   ],
   "source": [
    "#공분산\n",
    "df.cov()"
   ]
  },
  {
   "cell_type": "code",
   "execution_count": 46,
   "id": "eb15a230",
   "metadata": {},
   "outputs": [
    {
     "data": {
      "text/plain": [
       "0.6781895426913421"
      ]
     },
     "execution_count": 46,
     "metadata": {},
     "output_type": "execute_result"
    }
   ],
   "source": [
    "#공분산 값과 표준편차값으로 상관계수 연산\n",
    "df.cov().iloc[0,1] / (df.ssSDS.std() * df.Kona.std())"
   ]
  },
  {
   "cell_type": "code",
   "execution_count": 25,
   "id": "2d36838c",
   "metadata": {
    "ExecuteTime": {
     "end_time": "2021-08-31T09:58:27.775179Z",
     "start_time": "2021-08-31T09:58:27.761437Z"
    }
   },
   "outputs": [
    {
     "data": {
      "text/html": [
       "<div>\n",
       "<style scoped>\n",
       "    .dataframe tbody tr th:only-of-type {\n",
       "        vertical-align: middle;\n",
       "    }\n",
       "\n",
       "    .dataframe tbody tr th {\n",
       "        vertical-align: top;\n",
       "    }\n",
       "\n",
       "    .dataframe thead th {\n",
       "        text-align: right;\n",
       "    }\n",
       "</style>\n",
       "<table border=\"1\" class=\"dataframe\">\n",
       "  <thead>\n",
       "    <tr style=\"text-align: right;\">\n",
       "      <th></th>\n",
       "      <th>ssSDS</th>\n",
       "      <th>Kona</th>\n",
       "    </tr>\n",
       "  </thead>\n",
       "  <tbody>\n",
       "    <tr>\n",
       "      <th>ssSDS</th>\n",
       "      <td>1.00000</td>\n",
       "      <td>0.67819</td>\n",
       "    </tr>\n",
       "    <tr>\n",
       "      <th>Kona</th>\n",
       "      <td>0.67819</td>\n",
       "      <td>1.00000</td>\n",
       "    </tr>\n",
       "  </tbody>\n",
       "</table>\n",
       "</div>"
      ],
      "text/plain": [
       "         ssSDS     Kona\n",
       "ssSDS  1.00000  0.67819\n",
       "Kona   0.67819  1.00000"
      ]
     },
     "execution_count": 25,
     "metadata": {},
     "output_type": "execute_result"
    }
   ],
   "source": [
    "#상관계수\n",
    "df.corr()"
   ]
  }
 ],
 "metadata": {
  "hide_input": false,
  "kernelspec": {
   "display_name": "Python 3 (ipykernel)",
   "language": "python",
   "name": "python3"
  },
  "language_info": {
   "codemirror_mode": {
    "name": "ipython",
    "version": 3
   },
   "file_extension": ".py",
   "mimetype": "text/x-python",
   "name": "python",
   "nbconvert_exporter": "python",
   "pygments_lexer": "ipython3",
   "version": "3.9.7"
  },
  "toc": {
   "base_numbering": 1,
   "nav_menu": {},
   "number_sections": true,
   "sideBar": true,
   "skip_h1_title": false,
   "title_cell": "Table of Contents",
   "title_sidebar": "Contents",
   "toc_cell": false,
   "toc_position": {},
   "toc_section_display": true,
   "toc_window_display": false
  },
  "varInspector": {
   "cols": {
    "lenName": 16,
    "lenType": 16,
    "lenVar": 40
   },
   "kernels_config": {
    "python": {
     "delete_cmd_postfix": "",
     "delete_cmd_prefix": "del ",
     "library": "var_list.py",
     "varRefreshCmd": "print(var_dic_list())"
    },
    "r": {
     "delete_cmd_postfix": ") ",
     "delete_cmd_prefix": "rm(",
     "library": "var_list.r",
     "varRefreshCmd": "cat(var_dic_list()) "
    }
   },
   "types_to_exclude": [
    "module",
    "function",
    "builtin_function_or_method",
    "instance",
    "_Feature"
   ],
   "window_display": false
  }
 },
 "nbformat": 4,
 "nbformat_minor": 5
}
